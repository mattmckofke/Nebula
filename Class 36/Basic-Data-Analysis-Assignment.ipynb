{
 "cells": [
  {
   "cell_type": "markdown",
   "metadata": {},
   "source": [
    "### Assignment: Data Analysis with Pre-Generated Random Data\n",
    "\n",
    "This assignment guides you through analyzing a pre-generated dataset using Pandas. You'll practice manipulating and analyzing data to extract insights.\n",
    "\n",
    "#### Setup: Generate the Dataset\n",
    "\n",
    "Start by running the following code in this Jupyter Notebook to generate your dataset:\n"
   ]
  },
  {
   "cell_type": "code",
   "execution_count": 67,
   "metadata": {},
   "outputs": [],
   "source": [
    "import pandas as pd\n",
    "import numpy as np\n",
    "\n",
    "# Seed for reproducibility\n",
    "np.random.seed(0)\n",
    "\n",
    "# Generate random data\n",
    "data = {\n",
    "    'Region': np.random.choice(['North', 'South', 'East', 'West'], size=100),\n",
    "    'Sales': np.random.rand(100) * 1000,  # Sales figures between 0 and 1000\n",
    "    'Transactions': np.random.randint(1, 100, size=100)  # Transactions between 1 and 100\n",
    "}\n",
    "\n",
    "# Create DataFrame\n",
    "df = pd.DataFrame(data)"
   ]
  },
  {
   "cell_type": "markdown",
   "metadata": {},
   "source": [
    "#### Task 1: Explore the Dataset\n",
    "\n",
    "Familiarize yourself with the dataset structure and basic statistics.\n",
    "\n",
    "1. **Display the first few rows of the dataset.** Insert your code below:\n"
   ]
  },
  {
   "cell_type": "code",
   "execution_count": 68,
   "metadata": {},
   "outputs": [
    {
     "name": "stdout",
     "output_type": "stream",
     "text": [
      "  Region       Sales  Transactions\n",
      "0  North  570.196770            29\n",
      "1   West  438.601513             3\n",
      "2  South  988.373838            28\n",
      "3  North  102.044811            84\n",
      "4   West  208.876756            90\n"
     ]
    }
   ],
   "source": [
    "# INSERT CODE HERE to display the first 5 rows of the dataframe\n",
    "\n",
    "print(df.head())"
   ]
  },
  {
   "cell_type": "markdown",
   "metadata": {},
   "source": [
    "2. **Calculate and display basic statistics for the 'Sales' and 'Transactions' columns.** Insert your code below:\n"
   ]
  },
  {
   "cell_type": "code",
   "execution_count": 69,
   "metadata": {},
   "outputs": [
    {
     "name": "stdout",
     "output_type": "stream",
     "text": [
      "            Sales  Transactions\n",
      "count  100.000000    100.000000\n",
      "mean   496.438899     48.440000\n",
      "std    283.716158     28.051655\n",
      "min      4.695476      1.000000\n",
      "25%    262.365019     28.750000\n",
      "50%    544.924754     44.500000\n",
      "75%    700.581602     72.500000\n",
      "max    998.847007     98.000000\n"
     ]
    }
   ],
   "source": [
    "# INSERT CODE HERE to calculate basic statistics for 'Sales' and 'Transactions'\n",
    "\n",
    "print(df[['Sales', 'Transactions']].describe())"
   ]
  },
  {
   "cell_type": "markdown",
   "metadata": {},
   "source": [
    "#### Task 2: Data Analysis\n",
    "\n",
    "Perform basic analyses to extract insights from the data.\n",
    "\n",
    "1. **Calculate the average sales and transactions per region.** Insert your code below:\n"
   ]
  },
  {
   "cell_type": "code",
   "execution_count": 70,
   "metadata": {},
   "outputs": [
    {
     "name": "stdout",
     "output_type": "stream",
     "text": [
      "             Sales  Transactions\n",
      "Region                          \n",
      "East    564.093444     43.684211\n",
      "North   515.117684     47.320000\n",
      "South   466.730246     44.708333\n",
      "West    463.957703     54.937500\n"
     ]
    }
   ],
   "source": [
    "# INSERT CODE HERE to calculate the average sales per region\n",
    "# INSERT CODE HERE to calculate the average transactions per region\n",
    "\n",
    "print(df.groupby('Region')[['Sales', 'Transactions']].mean())"
   ]
  },
  {
   "cell_type": "markdown",
   "metadata": {},
   "source": [
    "2. **Find and display the region with the highest average sales.** Insert your code below:\n"
   ]
  },
  {
   "cell_type": "code",
   "execution_count": 71,
   "metadata": {},
   "outputs": [
    {
     "name": "stdout",
     "output_type": "stream",
     "text": [
      "East\n"
     ]
    }
   ],
   "source": [
    "# INSERT CODE HERE to find the region with the highest average sales\n",
    "\n",
    "print(df.groupby('Region')['Sales'].mean().idxmax())"
   ]
  },
  {
   "cell_type": "markdown",
   "metadata": {},
   "source": [
    "#### Task 3: Insights Reporting\n",
    "\n",
    "Based on your analysis, answer the following questions in a markdown cell in your Jupyter Notebook:\n",
    "\n",
    "1. What is the average sales and transactions figure per region?\n",
    "2. Which region has the highest average sales, and what might this imply?\n",
    "3. Did you notice any interesting patterns or anomalies in the data? How might you investigate these further?\n",
    "\n",
    "**Placeholder for Student's Analysis:**\n"
   ]
  },
  {
   "cell_type": "markdown",
   "metadata": {},
   "source": [
    "1. The average sales and transactions per region are as follows:\n",
    "\n",
    "    | Region | Sales      | Transactions |\n",
    "    |--------|------------|--------------|\n",
    "    | East   | 564.093444 | 43.684211    |\n",
    "    | North  | 515.117684 | 47.320000    |\n",
    "    | South  | 466.730246 | 44.708333    |\n",
    "    | West   | 463.957703 | 54.937500    |\n",
    "\n",
    "\n",
    "2. The region with the highest average sales is East\n",
    "\n",
    "3. One interesting pattern is the variation in sales figures across different regions. Some regions consistently show higher sales than others. To investigate further, we could:\n",
    "    - Analyze the distribution of sales within each region\n",
    "    - Look into external factors such as economic conditions, population density, or regional preferences\n"
   ]
  }
 ],
 "metadata": {
  "kernelspec": {
   "display_name": "Python 3",
   "language": "python",
   "name": "python3"
  },
  "language_info": {
   "codemirror_mode": {
    "name": "ipython",
    "version": 3
   },
   "file_extension": ".py",
   "mimetype": "text/x-python",
   "name": "python",
   "nbconvert_exporter": "python",
   "pygments_lexer": "ipython3",
   "version": "3.12.7"
  }
 },
 "nbformat": 4,
 "nbformat_minor": 2
}
