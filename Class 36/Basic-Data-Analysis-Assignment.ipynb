{
 "cells": [
  {
   "cell_type": "markdown",
   "metadata": {},
   "source": [
    "### Assignment: Data Analysis with Pre-Generated Random Data\n",
    "\n",
    "This assignment guides you through analyzing a pre-generated dataset using Pandas. You'll practice manipulating and analyzing data to extract insights.\n",
    "\n",
    "#### Setup: Generate the Dataset\n",
    "\n",
    "Start by running the following code in this Jupyter Notebook to generate your dataset:\n"
   ]
  },
  {
   "cell_type": "code",
   "execution_count": 5,
   "metadata": {},
   "outputs": [
    {
     "name": "stdout",
     "output_type": "stream",
     "text": [
      "   Region       Sales  Transactions\n",
      "0   North  570.196770            29\n",
      "1    West  438.601513             3\n",
      "2   South  988.373838            28\n",
      "3   North  102.044811            84\n",
      "4    West  208.876756            90\n",
      "..    ...         ...           ...\n",
      "95  North  703.888584            74\n",
      "96   East  100.226887            29\n",
      "97   West  919.482614            82\n",
      "98  South  714.241300            59\n",
      "99  North  998.847007             1\n",
      "\n",
      "[100 rows x 3 columns]\n"
     ]
    }
   ],
   "source": [
    "import pandas as pd\n",
    "import numpy as np\n",
    "\n",
    "# Seed for reproducibility\n",
    "np.random.seed(0)\n",
    "\n",
    "# Generate random data\n",
    "data = {\n",
    "    'Region': np.random.choice(['North', 'South', 'East', 'West'], size=100),\n",
    "    'Sales': np.random.rand(100) * 1000,  # Sales figures between 0 and 1000\n",
    "    'Transactions': np.random.randint(1, 100, size=100)  # Transactions between 1 and 100\n",
    "}\n",
    "\n",
    "# Create DataFrame\n",
    "df = pd.DataFrame(data)"
   ]
  },
  {
   "cell_type": "markdown",
   "metadata": {},
   "source": [
    "#### Task 1: Explore the Dataset\n",
    "\n",
    "Familiarize yourself with the dataset structure and basic statistics.\n",
    "\n",
    "1. **Display the first few rows of the dataset.** Insert your code below:\n"
   ]
  },
  {
   "cell_type": "code",
   "execution_count": 2,
   "metadata": {},
   "outputs": [
    {
     "data": {
      "text/html": [
       "<div>\n",
       "<style scoped>\n",
       "    .dataframe tbody tr th:only-of-type {\n",
       "        vertical-align: middle;\n",
       "    }\n",
       "\n",
       "    .dataframe tbody tr th {\n",
       "        vertical-align: top;\n",
       "    }\n",
       "\n",
       "    .dataframe thead th {\n",
       "        text-align: right;\n",
       "    }\n",
       "</style>\n",
       "<table border=\"1\" class=\"dataframe\">\n",
       "  <thead>\n",
       "    <tr style=\"text-align: right;\">\n",
       "      <th></th>\n",
       "      <th>Region</th>\n",
       "      <th>Sales</th>\n",
       "      <th>Transactions</th>\n",
       "    </tr>\n",
       "  </thead>\n",
       "  <tbody>\n",
       "    <tr>\n",
       "      <th>0</th>\n",
       "      <td>North</td>\n",
       "      <td>570.196770</td>\n",
       "      <td>29</td>\n",
       "    </tr>\n",
       "    <tr>\n",
       "      <th>1</th>\n",
       "      <td>West</td>\n",
       "      <td>438.601513</td>\n",
       "      <td>3</td>\n",
       "    </tr>\n",
       "    <tr>\n",
       "      <th>2</th>\n",
       "      <td>South</td>\n",
       "      <td>988.373838</td>\n",
       "      <td>28</td>\n",
       "    </tr>\n",
       "    <tr>\n",
       "      <th>3</th>\n",
       "      <td>North</td>\n",
       "      <td>102.044811</td>\n",
       "      <td>84</td>\n",
       "    </tr>\n",
       "    <tr>\n",
       "      <th>4</th>\n",
       "      <td>West</td>\n",
       "      <td>208.876756</td>\n",
       "      <td>90</td>\n",
       "    </tr>\n",
       "  </tbody>\n",
       "</table>\n",
       "</div>"
      ],
      "text/plain": [
       "  Region       Sales  Transactions\n",
       "0  North  570.196770            29\n",
       "1   West  438.601513             3\n",
       "2  South  988.373838            28\n",
       "3  North  102.044811            84\n",
       "4   West  208.876756            90"
      ]
     },
     "execution_count": 2,
     "metadata": {},
     "output_type": "execute_result"
    }
   ],
   "source": [
    "# INSERT CODE HERE to display the first 5 rows of the dataframe"
   ]
  },
  {
   "cell_type": "markdown",
   "metadata": {},
   "source": [
    "2. **Calculate and display basic statistics for the 'Sales' and 'Transactions' columns.** Insert your code below:\n"
   ]
  },
  {
   "cell_type": "code",
   "execution_count": 5,
   "metadata": {},
   "outputs": [
    {
     "data": {
      "text/html": [
       "<div>\n",
       "<style scoped>\n",
       "    .dataframe tbody tr th:only-of-type {\n",
       "        vertical-align: middle;\n",
       "    }\n",
       "\n",
       "    .dataframe tbody tr th {\n",
       "        vertical-align: top;\n",
       "    }\n",
       "\n",
       "    .dataframe thead th {\n",
       "        text-align: right;\n",
       "    }\n",
       "</style>\n",
       "<table border=\"1\" class=\"dataframe\">\n",
       "  <thead>\n",
       "    <tr style=\"text-align: right;\">\n",
       "      <th></th>\n",
       "      <th>Sales</th>\n",
       "      <th>Transactions</th>\n",
       "    </tr>\n",
       "  </thead>\n",
       "  <tbody>\n",
       "    <tr>\n",
       "      <th>count</th>\n",
       "      <td>100.000000</td>\n",
       "      <td>100.000000</td>\n",
       "    </tr>\n",
       "    <tr>\n",
       "      <th>mean</th>\n",
       "      <td>496.438899</td>\n",
       "      <td>48.440000</td>\n",
       "    </tr>\n",
       "    <tr>\n",
       "      <th>std</th>\n",
       "      <td>283.716158</td>\n",
       "      <td>28.051655</td>\n",
       "    </tr>\n",
       "    <tr>\n",
       "      <th>min</th>\n",
       "      <td>4.695476</td>\n",
       "      <td>1.000000</td>\n",
       "    </tr>\n",
       "    <tr>\n",
       "      <th>25%</th>\n",
       "      <td>262.365019</td>\n",
       "      <td>28.750000</td>\n",
       "    </tr>\n",
       "    <tr>\n",
       "      <th>50%</th>\n",
       "      <td>544.924754</td>\n",
       "      <td>44.500000</td>\n",
       "    </tr>\n",
       "    <tr>\n",
       "      <th>75%</th>\n",
       "      <td>700.581602</td>\n",
       "      <td>72.500000</td>\n",
       "    </tr>\n",
       "    <tr>\n",
       "      <th>max</th>\n",
       "      <td>998.847007</td>\n",
       "      <td>98.000000</td>\n",
       "    </tr>\n",
       "  </tbody>\n",
       "</table>\n",
       "</div>"
      ],
      "text/plain": [
       "            Sales  Transactions\n",
       "count  100.000000    100.000000\n",
       "mean   496.438899     48.440000\n",
       "std    283.716158     28.051655\n",
       "min      4.695476      1.000000\n",
       "25%    262.365019     28.750000\n",
       "50%    544.924754     44.500000\n",
       "75%    700.581602     72.500000\n",
       "max    998.847007     98.000000"
      ]
     },
     "execution_count": 5,
     "metadata": {},
     "output_type": "execute_result"
    }
   ],
   "source": [
    "# INSERT CODE HERE to calculate basic statistics for 'Sales' and 'Transactions'"
   ]
  },
  {
   "cell_type": "markdown",
   "metadata": {},
   "source": [
    "#### Task 2: Data Analysis\n",
    "\n",
    "Perform basic analyses to extract insights from the data.\n",
    "\n",
    "1. **Calculate the average sales and transactions per region.** Insert your code below:\n"
   ]
  },
  {
   "cell_type": "code",
   "execution_count": 10,
   "metadata": {},
   "outputs": [],
   "source": [
    "# INSERT CODE HERE to calculate the average sales per region\n",
    "# INSERT CODE HERE to calculate the average transactions per region\n"
   ]
  },
  {
   "cell_type": "markdown",
   "metadata": {},
   "source": [
    "2. **Find and display the region with the highest average sales.** Insert your code below:\n"
   ]
  },
  {
   "cell_type": "code",
   "execution_count": 9,
   "metadata": {},
   "outputs": [
    {
     "data": {
      "text/plain": [
       "'East'"
      ]
     },
     "execution_count": 9,
     "metadata": {},
     "output_type": "execute_result"
    }
   ],
   "source": [
    "# INSERT CODE HERE to find the region with the highest average sales"
   ]
  },
  {
   "cell_type": "markdown",
   "metadata": {},
   "source": [
    "#### Task 3: Insights Reporting\n",
    "\n",
    "Based on your analysis, answer the following questions in a markdown cell in your Jupyter Notebook:\n",
    "\n",
    "1. What is the average sales and transactions figure per region?\n",
    "2. Which region has the highest average sales, and what might this imply?\n",
    "3. Did you notice any interesting patterns or anomalies in the data? How might you investigate these further?\n",
    "\n",
    "**Placeholder for Student's Analysis:**\n"
   ]
  },
  {
   "cell_type": "markdown",
   "metadata": {},
   "source": [
    "1. INSERT YOUR ANSWER HERE\n",
    "2. INSERT YOUR ANSWER HERE\n",
    "3. INSERT YOUR ANSWER HERE\n"
   ]
  }
 ],
 "metadata": {
  "kernelspec": {
   "display_name": "Python 3",
   "language": "python",
   "name": "python3"
  },
  "language_info": {
   "codemirror_mode": {
    "name": "ipython",
    "version": 3
   },
   "file_extension": ".py",
   "mimetype": "text/x-python",
   "name": "python",
   "nbconvert_exporter": "python",
   "pygments_lexer": "ipython3",
   "version": "3.11.0"
  }
 },
 "nbformat": 4,
 "nbformat_minor": 2
}
