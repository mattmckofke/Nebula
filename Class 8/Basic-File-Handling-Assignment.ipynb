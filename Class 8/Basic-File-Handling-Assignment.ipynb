{
 "cells": [
  {
   "cell_type": "markdown",
   "metadata": {},
   "source": [
    "# Basic File Handling Assignment\n",
    "\n",
    "- **Task 1.1**: Create a list named `favorite_movies` with elements representing your favorite movies. Then, write this list to a file named `movies.txt` using the `open()` function with write mode (`'w'`). Ensure each movie is on its own line. Finally, read back the contents from `movies.txt` and print them to verify. Implement this in the Python code block below.\n"
   ]
  },
  {
   "cell_type": "code",
   "execution_count": 67,
   "metadata": {},
   "outputs": [
    {
     "name": "stdout",
     "output_type": "stream",
     "text": [
      "Movies in movies.txt\n",
      "Movie A\n",
      "Movie B\n",
      "Movie C\n",
      "\n"
     ]
    }
   ],
   "source": [
    "favorite_movies = [\"Movie A\", \"Movie B\", \"Movie C\"]\n",
    "# Write favorite_movies to movies.txt\n",
    "with open(\"movies.txt\", \"w\") as file:\n",
    "    for movie in favorite_movies:\n",
    "        file.write(movie + '\\n')\n",
    "# Read from movies.txt and print contents\n",
    "with open(\"movies.txt\", \"r\") as file:\n",
    "    contents = file.read()\n",
    "    print(\"Movies in movies.txt\\n\" + contents)"
   ]
  },
  {
   "cell_type": "markdown",
   "metadata": {},
   "source": [
    "- **Task 1.2**: Check if a file named `notes.txt` exists. If it does, append a new note saying \"New note appended.\" If it does not exist, create the file and add a note saying \"First note added.\" Use the `os` module to check the file existence and the `open()` function with appropriate mode for file operations. Write your code in the block below."
   ]
  },
  {
   "cell_type": "code",
   "execution_count": 68,
   "metadata": {},
   "outputs": [
    {
     "name": "stdout",
     "output_type": "stream",
     "text": [
      "Notes in notes.txt\n",
      "First note added\n",
      "Note appended\n",
      "Note appended\n",
      "Note appended\n",
      "Note appended\n",
      "Note appended\n",
      "Note appended\n",
      "Note appended\n",
      "Note appended\n",
      "Note appended\n",
      "Note appended\n",
      "Note appended\n",
      "Note appended\n",
      "Note appended\n",
      "Note appended\n",
      "Note appended\n",
      "Note appended\n",
      "Note appended\n",
      "Note appended\n",
      "\n"
     ]
    }
   ],
   "source": [
    "import os\n",
    "# Check if notes.txt exists and append or create and add note accordingly\n",
    "if os.path.exists(\"notes.txt\"):\n",
    "    with open(\"notes.txt\", \"a\") as file:\n",
    "        file.write(\"Note appended\\n\")\n",
    "else:\n",
    "    with open(\"notes.txt\", \"w\") as file:\n",
    "        file.write(\"First note added\\n\")\n",
    "\n",
    "with open(\"notes.txt\", \"r\") as file:\n",
    "    notes_contents = file.read()\n",
    "    print(\"Notes in notes.txt\\n\" + notes_contents)"
   ]
  },
  {
   "cell_type": "markdown",
   "metadata": {},
   "source": [
    "- **Task 2.1**: Using the `with` statement, open `movies.txt` and append another movie name to the list. Then, read back and print the updated contents. This ensures the file is automatically closed after the block of code is executed. Execute your task in the code block below."
   ]
  },
  {
   "cell_type": "code",
   "execution_count": 69,
   "metadata": {},
   "outputs": [
    {
     "name": "stdout",
     "output_type": "stream",
     "text": [
      "Updated movies in movies.txt\n",
      "Movie A\n",
      "Movie B\n",
      "Movie C\n",
      "Movie D\n",
      "\n"
     ]
    }
   ],
   "source": [
    "# Append another movie to movies.txt using the with statement\n",
    "new_movie = \"Movie D\"\n",
    "\n",
    "with open(\"movies.txt\", \"a\") as file:\n",
    "    file.write(new_movie + '\\n')\n",
    "# Read and print updated contents\n",
    "with open(\"movies.txt\", \"r\") as file:\n",
    "    updated_contents = file.read()\n",
    "    print(\"Updated movies in movies.txt\\n\" + updated_contents)"
   ]
  },
  {
   "cell_type": "markdown",
   "metadata": {},
   "source": [
    "- **Task 2.2**: Use the `os.path.exists()` function to check if `notes.txt` exists. If it does, print \"File exists.\" If not, print \"File does not exist.\" This demonstrates how to check for a file's existence before attempting to perform operations on it. Implement your code in the Python block below."
   ]
  },
  {
   "cell_type": "code",
   "execution_count": 70,
   "metadata": {},
   "outputs": [
    {
     "name": "stdout",
     "output_type": "stream",
     "text": [
      "notes.txt exists\n"
     ]
    }
   ],
   "source": [
    "# Check for the existence of notes.txt and print appropriate message\n",
    "if os.path.exists(\"notes.txt\"):\n",
    "    print(\"notes.txt exists\")\n",
    "else:\n",
    "    print(\"notes.txt does not exist\")"
   ]
  },
  {
   "cell_type": "markdown",
   "metadata": {},
   "source": [
    "- **Task 3.1**: Demonstrate directory management by creating a new directory named `my_directory` and then removing it. Use the `os.mkdir()` function to create the directory and `os.rmdir()` to remove it. Make sure to check if the directory exists before trying to remove it to avoid errors. Code your solution in the block below."
   ]
  },
  {
   "cell_type": "code",
   "execution_count": 79,
   "metadata": {},
   "outputs": [
    {
     "name": "stdout",
     "output_type": "stream",
     "text": [
      "my_directory created\n",
      "my_directory removed\n"
     ]
    }
   ],
   "source": [
    "# Create and then remove my_directory\n",
    "directory = \"my_directory\"\n",
    "\n",
    "if not os.path.exists(directory):\n",
    "    os.makedirs(directory)\n",
    "    print(f\"{directory} created\")\n",
    "else:\n",
    "    print(f\"{directory} already exists\")\n",
    "    \n",
    "# Buffer for user to see the directory be created\n",
    "pause = input(\"Press Enter to remove the directory...\")\n",
    "\n",
    "if os.path.exists(directory):\n",
    "    os.rmdir(directory)\n",
    "    print(f\"{directory} removed\")\n",
    "else:\n",
    "    print(f\"{directory} does not exist\")"
   ]
  },
  {
   "cell_type": "markdown",
   "metadata": {},
   "source": [
    "#### Homework\n",
    "1. Develop a Python script that reads a file and counts the number of words in it.\n",
    "2. Create a program that lists all the files in a given directory and prints their file sizes."
   ]
  },
  {
   "cell_type": "code",
   "execution_count": 72,
   "metadata": {},
   "outputs": [
    {
     "name": "stdout",
     "output_type": "stream",
     "text": [
      "The number of words in word_counter.txt is 8\n",
      "Basic-File-Handling-Assignment.ipynb: 8155 bytes\n",
      "codewars-3.py: 315 bytes\n",
      "codewars-4.py: 169 bytes\n",
      "movies.txt: 36 bytes\n",
      "notes.txt: 288 bytes\n",
      "word_counter.txt: 40 bytes\n"
     ]
    }
   ],
   "source": [
    "# HW 1: Read a file and count the number of words in it\n",
    "filename = \"word_counter.txt\"\n",
    "\n",
    "with open(filename, 'w') as file:\n",
    "    file.write(\"This is an example file with some words.\")\n",
    "\n",
    "with open(filename, 'r') as file:\n",
    "    contents = file.read()\n",
    "    words = contents.split()\n",
    "    word_count = len(words)\n",
    "\n",
    "print(f\"The number of words in {filename} is {word_count}\")\n",
    "\n",
    "# HW 2: List all files in a given directory and print their file sizes\n",
    "directory = \".\"\n",
    "\n",
    "if os.path.exists(directory):\n",
    "    for filename in os.listdir(directory):\n",
    "        filepath = os.path.join(directory, filename)\n",
    "        if os.path.isfile(filepath):\n",
    "            print(f\"{filename}: {os.path.getsize(filepath)} bytes\")\n",
    "else:\n",
    "    print(f\"Directory '{directory}' does not exist\")\n"
   ]
  }
 ],
 "metadata": {
  "kernelspec": {
   "display_name": "Python 3",
   "language": "python",
   "name": "python3"
  },
  "language_info": {
   "codemirror_mode": {
    "name": "ipython",
    "version": 3
   },
   "file_extension": ".py",
   "mimetype": "text/x-python",
   "name": "python",
   "nbconvert_exporter": "python",
   "pygments_lexer": "ipython3",
   "version": "3.12.3"
  }
 },
 "nbformat": 4,
 "nbformat_minor": 2
}
