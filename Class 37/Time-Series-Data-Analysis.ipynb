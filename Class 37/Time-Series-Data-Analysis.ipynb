{
 "cells": [
  {
   "cell_type": "markdown",
   "metadata": {},
   "source": [
    "# Assignment: Time-Series Data Analysis\n",
    "\n",
    "This assignment will guide you through the process of analyzing a time-series dataset to identify underlying trends, patterns, and seasonal variations using Pandas.\n",
    "\n",
    "#### Setup: Generate the Time-Series Dataset\n",
    "\n",
    "Run the following code in this Jupyter Notebook to generate your synthetic time-series dataset:\n"
   ]
  },
  {
   "cell_type": "code",
   "execution_count": 2,
   "metadata": {},
   "outputs": [],
   "source": [
    "import pandas as pd\n",
    "import numpy as np\n",
    "\n",
    "# Seed for reproducibility\n",
    "np.random.seed(0)\n",
    "\n",
    "# Generate a date range\n",
    "dates = pd.date_range(start=\"2020-01-01\", end=\"2020-12-31\", freq=\"D\")\n",
    "\n",
    "# Generate synthetic time-series data\n",
    "data = {\n",
    "    \"Date\": dates,\n",
    "    \"Sales\": np.random.rand(len(dates)) * 200\n",
    "    + np.sin(np.linspace(-3, 3, len(dates))) * 50\n",
    "    + 100,\n",
    "}\n",
    "\n",
    "# Create DataFrame\n",
    "df = pd.DataFrame(data)\n",
    "df.set_index(\"Date\", inplace=True)"
   ]
  },
  {
   "cell_type": "markdown",
   "metadata": {},
   "source": [
    "#### Task 1: Initial Exploration\n",
    "\n",
    "Begin with an initial exploration to understand your dataset's structure and main components.\n",
    "\n",
    "1. **Display the first few rows of the dataset to get an idea of its structure.** Insert your code below:\n"
   ]
  },
  {
   "cell_type": "code",
   "execution_count": 3,
   "metadata": {},
   "outputs": [
    {
     "name": "stdout",
     "output_type": "stream",
     "text": [
      "                 Sales\n",
      "Date                  \n",
      "2020-01-01  202.706700\n",
      "2020-01-02  235.169170\n",
      "2020-01-03  211.873396\n",
      "2020-01-04  199.489126\n",
      "2020-01-05  174.437782\n"
     ]
    }
   ],
   "source": [
    "# INSERT CODE HERE to display the first 5 rows of the dataframe\n",
    "print(df.head())"
   ]
  },
  {
   "cell_type": "markdown",
   "metadata": {},
   "source": [
    "2. **Generate a quick statistical summary of the 'Sales' column.** Insert your code below:\n"
   ]
  },
  {
   "cell_type": "code",
   "execution_count": 4,
   "metadata": {},
   "outputs": [
    {
     "name": "stdout",
     "output_type": "stream",
     "text": [
      "count    366.000000\n",
      "mean     198.310915\n",
      "std       67.669889\n",
      "min       51.917902\n",
      "25%      153.612585\n",
      "50%      195.180813\n",
      "75%      247.201742\n",
      "max      345.940247\n",
      "Name: Sales, dtype: float64\n"
     ]
    }
   ],
   "source": [
    "# INSERT CODE HERE to generate a statistical summary for 'Sales'\n",
    "print(df[\"Sales\"].describe())"
   ]
  },
  {
   "cell_type": "markdown",
   "metadata": {},
   "source": [
    "#### Task 2: Time-Series Analysis\n",
    "\n",
    "Dive deeper into the time-series data to identify trends and patterns.\n"
   ]
  },
  {
   "cell_type": "markdown",
   "metadata": {},
   "source": [
    "1. **Calculate the monthly average sales.** Insert your code below:\n"
   ]
  },
  {
   "cell_type": "code",
   "execution_count": 5,
   "metadata": {},
   "outputs": [
    {
     "name": "stdout",
     "output_type": "stream",
     "text": [
      "Date\n",
      "2020-01-31    195.460937\n",
      "2020-02-29    153.416845\n",
      "2020-03-31    134.496599\n",
      "2020-04-30    162.798116\n",
      "2020-05-31    176.783977\n",
      "2020-06-30    180.825404\n",
      "2020-07-31    205.664190\n",
      "2020-08-31    226.765056\n",
      "2020-09-30    253.600081\n",
      "2020-10-31    257.958790\n",
      "2020-11-30    216.756263\n",
      "2020-12-31    212.977238\n",
      "Freq: ME, Name: Sales, dtype: float64\n"
     ]
    }
   ],
   "source": [
    "# INSERT CODE HERE to resample the data by month and calculate average sales\n",
    "monthly_sales = df[\"Sales\"].resample(\"ME\").mean()\n",
    "print(monthly_sales)"
   ]
  },
  {
   "cell_type": "markdown",
   "metadata": {},
   "source": [
    "2. **Identify any obvious trends in monthly average sales.** (For now, describe the trend in a markdown cell. Later, you'll learn how to visualize these trends for better insight.)\n"
   ]
  },
  {
   "cell_type": "code",
   "execution_count": 6,
   "metadata": {},
   "outputs": [],
   "source": [
    "# INSERT YOUR OBSERVATION HERE about any trends in monthly average sales\n",
    "# The monthly average sales show a clear upward trend from January to December."
   ]
  },
  {
   "cell_type": "markdown",
   "metadata": {},
   "source": [
    "3. **Calculate the rolling 7-day average of sales to smooth out any short-term fluctuations.** Insert your code below:\n"
   ]
  },
  {
   "cell_type": "code",
   "execution_count": 13,
   "metadata": {},
   "outputs": [
    {
     "name": "stdout",
     "output_type": "stream",
     "text": [
      "Date\n",
      "2020-01-01    202.706700\n",
      "2020-01-02    218.937935\n",
      "2020-01-03    216.583089\n",
      "2020-01-04    212.309598\n",
      "2020-01-05    204.735235\n",
      "                 ...    \n",
      "2020-12-27    213.487064\n",
      "2020-12-28    208.759776\n",
      "2020-12-29    213.083616\n",
      "2020-12-30    233.800616\n",
      "2020-12-31    234.879050\n",
      "Name: Sales, Length: 366, dtype: float64\n"
     ]
    }
   ],
   "source": [
    "# INSERT CODE HERE to calculate 7-day rolling average of sales\n",
    "\n",
    "print(df[\"Sales\"].rolling(window=7, min_periods=1).mean())\n"
   ]
  }
 ],
 "metadata": {
  "kernelspec": {
   "display_name": "Python 3",
   "language": "python",
   "name": "python3"
  },
  "language_info": {
   "codemirror_mode": {
    "name": "ipython",
    "version": 3
   },
   "file_extension": ".py",
   "mimetype": "text/x-python",
   "name": "python",
   "nbconvert_exporter": "python",
   "pygments_lexer": "ipython3",
   "version": "3.12.7"
  }
 },
 "nbformat": 4,
 "nbformat_minor": 2
}
