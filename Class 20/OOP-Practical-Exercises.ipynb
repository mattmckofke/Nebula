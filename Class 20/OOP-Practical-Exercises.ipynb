{
 "cells": [
  {
   "cell_type": "markdown",
   "metadata": {},
   "source": [
    "## Practical Exercises\n",
    " \n",
    "1. **Car Class Implementation:** Create a `Car` class with methods like `start_engine`."
   ]
  },
  {
   "cell_type": "code",
   "execution_count": 27,
   "metadata": {},
   "outputs": [
    {
     "name": "stdout",
     "output_type": "stream",
     "text": [
      "The Audi R8 is running.\n",
      "The Audi R8 is not running.\n"
     ]
    }
   ],
   "source": [
    "class Car():\n",
    "    def __init__(self, make, model, year):\n",
    "        self.make = make\n",
    "        self.model = model\n",
    "        self.year = year\n",
    "        self.engine_status = False\n",
    "        \n",
    "    def start_engine(self):\n",
    "        self.engine_status = True\n",
    "        \n",
    "    def stop_engine(self):\n",
    "        self.engine_status = False\n",
    "        \n",
    "    def check_engine_status(self):\n",
    "        if self.engine_status:\n",
    "            print(\"The \" + self.make + \" \" + self.model + \" is running.\")\n",
    "        else:\n",
    "            print(\"The \" + self.make + \" \" + self.model + \" is not running.\")\n",
    "            \n",
    "my_car = Car(\"Audi\", \"R8\", 2016)\n",
    "my_car.start_engine()\n",
    "my_car.check_engine_status()\n",
    "my_car.stop_engine()\n",
    "my_car.check_engine_status()"
   ]
  },
  {
   "cell_type": "markdown",
   "metadata": {},
   "source": [
    "2. **Electric Car Extension:** Develop an `ElectricCar` subclass with unique attributes."
   ]
  },
  {
   "cell_type": "code",
   "execution_count": 28,
   "metadata": {},
   "outputs": [
    {
     "name": "stdout",
     "output_type": "stream",
     "text": [
      "The Lucid Air Grand Touring is running silently.\n",
      "The battery status of the Lucid Air Grand Touring is 118 kWh.\n",
      "The Lucid Air Grand Touring is driving.\n",
      "The battery status of the Lucid Air Grand Touring is 113 kWh.\n",
      "The Lucid Air Grand Touring is driving.\n",
      "The battery status of the Lucid Air Grand Touring is 108 kWh.\n",
      "The battery of the Lucid Air Grand Touring is now charged to 118 kWh.\n"
     ]
    }
   ],
   "source": [
    "class ElectricCar(Car):\n",
    "    def __init__(self, make, model, year, battery_cap):\n",
    "        super().__init__(make, model, year)\n",
    "        self.battery_cap = battery_cap\n",
    "        self.battery_status = battery_cap\n",
    "    \n",
    "    def start_motor(self):\n",
    "        print(\"The \" + self.make + \" \" + self.model + \" is running silently.\")\n",
    "    \n",
    "    def stop_motor(self):\n",
    "        self.stop_engine()\n",
    "        \n",
    "    def check_battery_status(self):\n",
    "        print(\"The battery status of the \" + self.make + \" \" + self.model + \" is \" + str(self.battery_status) + \" kWh.\")\n",
    "        \n",
    "    def charge_battery(self):\n",
    "        if (self.battery_status + 25) <= self.battery_cap:\n",
    "            self.battery_status += 25\n",
    "        else:\n",
    "            self.battery_status = self.battery_cap\n",
    "        print(\"The battery of the \" + self.make + \" \" + self.model + \" is now charged to \" + str(self.battery_status) + \" kWh.\")\n",
    "        \n",
    "    def drive(self):\n",
    "        if self.battery_status > 5:\n",
    "            print(\"The \" + self.make + \" \" + self.model + \" is driving.\")\n",
    "            self.battery_status -= 5\n",
    "        else:\n",
    "            print(\"The \" + self.make + \" \" + self.model + \"\\'s battery died while driving.\")\n",
    "            self.battery_status = 0\n",
    "            \n",
    "my_electric_car = ElectricCar(\"Lucid\", \"Air Grand Touring\", 2024, 118)\n",
    "my_electric_car.start_motor()\n",
    "my_electric_car.check_battery_status()\n",
    "my_electric_car.drive()\n",
    "my_electric_car.check_battery_status()\n",
    "my_electric_car.drive()\n",
    "my_electric_car.check_battery_status()\n",
    "my_electric_car.charge_battery()"
   ]
  },
  {
   "cell_type": "markdown",
   "metadata": {},
   "source": [
    "3. **Polymorphism Demonstration:** Use method overriding to demonstrate polymorphism with animal classes."
   ]
  },
  {
   "cell_type": "code",
   "execution_count": 29,
   "metadata": {},
   "outputs": [
    {
     "name": "stdout",
     "output_type": "stream",
     "text": [
      "The animal makes a sound\n",
      "The dog barks\n",
      "The cat meows\n"
     ]
    }
   ],
   "source": [
    "class Animal:\n",
    "    def make_sound(self):\n",
    "        print(\"The animal makes a sound\")\n",
    "        \n",
    "class Dog(Animal):\n",
    "    def make_sound(self):\n",
    "        print(\"The dog barks\")\n",
    "        \n",
    "class Cat(Animal):\n",
    "    def make_sound(self):\n",
    "        print(\"The cat meows\")\n",
    "        \n",
    "my_animal = Animal()\n",
    "my_dog = Dog()\n",
    "my_cat = Cat()\n",
    "\n",
    "my_animal.make_sound()\n",
    "my_dog.make_sound()\n",
    "my_cat.make_sound()"
   ]
  }
 ],
 "metadata": {
  "kernelspec": {
   "display_name": "Python 3",
   "language": "python",
   "name": "python3"
  },
  "language_info": {
   "codemirror_mode": {
    "name": "ipython",
    "version": 3
   },
   "file_extension": ".py",
   "mimetype": "text/x-python",
   "name": "python",
   "nbconvert_exporter": "python",
   "pygments_lexer": "ipython3",
   "version": "3.12.7"
  }
 },
 "nbformat": 4,
 "nbformat_minor": 2
}
