{
 "cells": [
  {
   "cell_type": "markdown",
   "metadata": {},
   "source": [
    "# 🚀 Advanced Object-Oriented Programming Exercises\n",
    "\n",
    "## 1. 🐶 Implement a Basic Class\n",
    "\n",
    "Create a `Dog` class with attributes `name` and `age`, and a method `bark` that prints `\"{name} says woof!\"`. Instantiate an object of the class and call the `bark` method."
   ]
  },
  {
   "cell_type": "code",
   "execution_count": 3,
   "metadata": {},
   "outputs": [
    {
     "name": "stdout",
     "output_type": "stream",
     "text": [
      "Rex says woof!\n"
     ]
    }
   ],
   "source": [
    "class Dog():\n",
    "    def __init__(self, name, age):\n",
    "        self.name = name\n",
    "        self.age = age\n",
    "\n",
    "    def bark(self):\n",
    "        print(f\"{self.name} says woof!\")\n",
    "        \n",
    "dog = Dog(\"Rex\", 2)\n",
    "dog.bark()"
   ]
  },
  {
   "cell_type": "markdown",
   "metadata": {},
   "source": [
    "## 2. 💰 Bank Account Encapsulation\n",
    "\n",
    "Implement a `BankAccount` class with a private attribute `__balance`. Provide public methods `deposit(amount)` and `withdraw(amount)` to modify the balance, and `get_balance()` to retrieve the current balance."
   ]
  },
  {
   "cell_type": "code",
   "execution_count": 8,
   "metadata": {},
   "outputs": [
    {
     "name": "stdout",
     "output_type": "stream",
     "text": [
      "150\n",
      "140\n"
     ]
    }
   ],
   "source": [
    "class BankAccount():\n",
    "    def __init__(self, balance):\n",
    "        self.__balance = balance\n",
    "        \n",
    "    def deposit(self, amount):\n",
    "        self.__balance += amount\n",
    "        \n",
    "    def withdraw(self, amount):\n",
    "        if amount <= self.__balance:\n",
    "            self.__balance -= amount\n",
    "        else:\n",
    "            print(\"Insufficient funds\")\n",
    "    \n",
    "    def get_balance(self):\n",
    "        return self.__balance\n",
    "    \n",
    "account = BankAccount(100)\n",
    "account.deposit(50)\n",
    "print(account.get_balance())\n",
    "account.withdraw(10)\n",
    "print(account.get_balance())"
   ]
  },
  {
   "cell_type": "markdown",
   "metadata": {},
   "source": [
    "## 3. 👪 Inheritance and `super()`\n",
    "\n",
    "Create a base class `Person` with attributes `name` and `age`. Then create a subclass `Employee` that inherits from `Person` and adds an attribute `employee_id`. Use `super()` to initialize the inherited attributes."
   ]
  },
  {
   "cell_type": "code",
   "execution_count": 9,
   "metadata": {},
   "outputs": [
    {
     "name": "stdout",
     "output_type": "stream",
     "text": [
      "John\n",
      "30\n",
      "1001\n"
     ]
    }
   ],
   "source": [
    "class Person():\n",
    "    def __init__(self, name, age):\n",
    "        self.name = name\n",
    "        self.age = age\n",
    "        \n",
    "class Employee(Person):\n",
    "    def __init__(self, name, age, employee_id):\n",
    "        super().__init__(name, age)\n",
    "        self.employee_id = employee_id\n",
    "        \n",
    "employee = Employee(\"John\", 30, 1001)\n",
    "print(employee.name)\n",
    "print(employee.age)\n",
    "print(employee.employee_id)"
   ]
  },
  {
   "cell_type": "markdown",
   "metadata": {},
   "source": [
    "## 4. 🐾 Method Overriding and Polymorphism\n",
    "\n",
    "Define a base class `Animal` with a method `speak()`. Create subclasses `Cat` and `Dog` that override the `speak()` method to return `\"Meow\"` and `\"Woof\"`, respectively. Write a function that takes an `Animal` object and calls its `speak()` method."
   ]
  },
  {
   "cell_type": "code",
   "execution_count": null,
   "metadata": {},
   "outputs": [
    {
     "name": "stdout",
     "output_type": "stream",
     "text": [
      "I am an animal\n",
      "Meow\n",
      "Woof\n"
     ]
    }
   ],
   "source": [
    "class Animal():\n",
    "    def __init__(self, name):\n",
    "        self.name = name\n",
    "        \n",
    "    def speak(self):\n",
    "        print(\"I am an animal\")\n",
    "        \n",
    "class Cat(Animal):\n",
    "    def __init__(self, name):\n",
    "        super().__init__(name)\n",
    "        \n",
    "    def speak(self):\n",
    "        print(\"Meow\")\n",
    "        \n",
    "class Dog(Animal):\n",
    "    def __init__(self, name):\n",
    "        super().__init__(name)\n",
    "        \n",
    "    def speak(self):\n",
    "        print(\"Woof\")\n",
    "        \n",
    "def animal_speak(animal):\n",
    "    animal.speak()\n",
    "    \n",
    "animal = Animal(\"Animal\")\n",
    "animal_speak(animal)\n",
    "cat = Cat(\"Whiskers\")\n",
    "animal_speak(cat)\n",
    "dog = Dog(\"Rex\")\n",
    "animal_speak(dog)"
   ]
  },
  {
   "cell_type": "markdown",
   "metadata": {},
   "source": [
    "## 5. 🔐 Access Modifiers Practice\n",
    "\n",
    "Create a class `SafeBox` with:\n",
    "\n",
    "- A public attribute `owner`\n",
    "- A protected attribute `_code`\n",
    "- A private attribute `__content`\n",
    "\n",
    "Demonstrate how to access each attribute from inside the class, and attempt to access them from outside the class to observe the behavior."
   ]
  },
  {
   "cell_type": "code",
   "execution_count": 14,
   "metadata": {},
   "outputs": [
    {
     "name": "stdout",
     "output_type": "stream",
     "text": [
      "Alice\n",
      "1234\n",
      "gold\n"
     ]
    }
   ],
   "source": [
    "class SafeBox():\n",
    "    def __init__(self, owner, code, content):\n",
    "        self.owner = owner\n",
    "        self._code = code\n",
    "        self.__content = content\n",
    "        \n",
    "    def get_content(self):\n",
    "        return self.__content\n",
    "        \n",
    "\n",
    "box = SafeBox(\"Alice\", \"1234\", \"gold\")\n",
    "print(box.owner)\n",
    "print(box._code)\n",
    "print(box.get_content())\n",
    "\n",
    "# print(box.__content)\n"
   ]
  }
 ],
 "metadata": {
  "kernelspec": {
   "display_name": "Python 3",
   "language": "python",
   "name": "python3"
  },
  "language_info": {
   "codemirror_mode": {
    "name": "ipython",
    "version": 3
   },
   "file_extension": ".py",
   "mimetype": "text/x-python",
   "name": "python",
   "nbconvert_exporter": "python",
   "pygments_lexer": "ipython3",
   "version": "3.12.7"
  }
 },
 "nbformat": 4,
 "nbformat_minor": 2
}
