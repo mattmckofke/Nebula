{
 "cells": [
  {
   "cell_type": "markdown",
   "metadata": {},
   "source": [
    "# Mastering Python Conditional Statements Assignment\n",
    "\n",
    "## Exercise 1: Basic Decision Making\n",
    "\n",
    "Understanding the core of conditional statements is crucial for decision-making in Python.\n",
    "\n",
    "- **Task 1.1:** Write a program to check if a number is positive, negative, or zero.\n",
    "- **Input:** Any integer.\n",
    "- **Output:** A string stating whether the number is \"positive\", \"negative\", or \"zero\".\n"
   ]
  },
  {
   "cell_type": "code",
   "execution_count": null,
   "metadata": {},
   "outputs": [],
   "source": [
    "# Task 1.1\n",
    "x = int(input(\"Enter any integer: \"))\n",
    "if (x > 0): print(str(x) + \" is positive\")\n",
    "elif (x == 0): print(str(x) + \" is zero\")\n",
    "else: print(str(x) + \" is negative\")"
   ]
  },
  {
   "cell_type": "markdown",
   "metadata": {},
   "source": [
    "## Exercise 2: Logical Operators\n",
    "\n",
    "Logical operators like `and`, `or`, and `not` help in combining conditions for complex decision-making.\n",
    "\n",
    "- **Task 2.1:** Create a program that determines if a year is a leap year using logical operators.\n",
    "- **Input:** A year.\n",
    "- **Output:** `True` if the year is a leap year, `False` otherwise."
   ]
  },
  {
   "cell_type": "code",
   "execution_count": null,
   "metadata": {},
   "outputs": [],
   "source": [
    "# Task 2.1\n",
    "year = int(input(\"Enter a year: \"))\n",
    "if (year % 4 == 0 and year % 100 != 0) or (year % 400 == 0): print(True)\n",
    "else: print(False)"
   ]
  },
  {
   "cell_type": "markdown",
   "metadata": {},
   "source": [
    "## Exercise 3: Nested Conditional Statements\n",
    "\n",
    "Nesting allows deeper decision-making processes by layering conditions within conditions.\n",
    "\n",
    "- **Task 3.1:** Write a program that categorizes a person’s life stage as follows: \n",
    "  - **Child** (under 18)\n",
    "  - **Adult** (18-64)\n",
    "  - **Senior** (65 and older).\n",
    "- **Input:** Age as an integer.\n",
    "- **Output:** A string representing the life stage."
   ]
  },
  {
   "cell_type": "code",
   "execution_count": null,
   "metadata": {},
   "outputs": [],
   "source": [
    "# Task 3.1\n",
    "age = int(input(\"Enter age: \"))\n",
    "if (age < 18): print(\"Child\")\n",
    "elif (age > 64): print(\"Senior\")\n",
    "else: print(\"Adult\")"
   ]
  },
  {
   "cell_type": "markdown",
   "metadata": {},
   "source": [
    "## Exercise 4: Complex Decision Making\n",
    "\n",
    "Use conditional statements to create more complex decision-making systems.\n",
    "\n",
    "- **Task 4.1:** Write a program that asks for the temperature in Fahrenheit and Celsius, and the unit to which you want to convert. It should then convert the temperature.\n",
    "- **Input:** Temperature and the target unit (`\"Celsius\"` or `\"Fahrenheit\"`).\n",
    "- **Output:** The converted temperature."
   ]
  },
  {
   "cell_type": "code",
   "execution_count": 9,
   "metadata": {},
   "outputs": [
    {
     "name": "stdout",
     "output_type": "stream",
     "text": [
      "In Celcius the temperature is 23.89\n"
     ]
    }
   ],
   "source": [
    "# Task 4.1\n",
    "temp = float(input(\"Enter a temperature: \"))\n",
    "unit = input(\"Enter the unit (C or F): \")\n",
    "if (unit == \"C\"): print(f\"In Farenheit the temperature is {temp * (9/5) + 32:.2f}\")\n",
    "elif (unit == \"F\"): print(f\"In Celcius the temperature is {(temp - 32)*(5/9):.2f}\")\n",
    "else: print(\"That's not a unit\")"
   ]
  },
  {
   "cell_type": "markdown",
   "metadata": {},
   "source": [
    "## Exercise 5: Grading System\n",
    "\n",
    "Implement a decision-making structure for a grading system.\n",
    "\n",
    "- **Task 5.1:** Write a program to convert a percentage score to a letter grade.\n",
    "  - **A:** 90–100\n",
    "  - **B:** 80–89\n",
    "  - **C:** 70–79\n",
    "  - **D:** 60–69\n",
    "  - **F:** Below 60\n",
    "- **Input:** Score as a percentage.\n",
    "- **Output:** The corresponding grade."
   ]
  },
  {
   "cell_type": "code",
   "execution_count": 18,
   "metadata": {},
   "outputs": [
    {
     "name": "stdout",
     "output_type": "stream",
     "text": [
      "Letter Grade: A\n"
     ]
    }
   ],
   "source": [
    "# Task 5.1\n",
    "score = int(input(\"Enter the score: \"))\n",
    "if (score < 60): print(\"Letter Grade: F\")\n",
    "elif (score < 70): print(\"Letter Grade: D\")\n",
    "elif (score < 80): print(\"Letter Grade: C\")\n",
    "elif (score < 90): print(\"Letter Grade: B\")\n",
    "elif (score <= 100): print(\"Letter Grade: A\")\n",
    "else: print(\"Invalid score\")"
   ]
  }
 ],
 "metadata": {
  "kernelspec": {
   "display_name": "Python 3",
   "language": "python",
   "name": "python3"
  },
  "language_info": {
   "codemirror_mode": {
    "name": "ipython",
    "version": 3
   },
   "file_extension": ".py",
   "mimetype": "text/x-python",
   "name": "python",
   "nbconvert_exporter": "python",
   "pygments_lexer": "ipython3",
   "version": "3.12.3"
  }
 },
 "nbformat": 4,
 "nbformat_minor": 2
}
