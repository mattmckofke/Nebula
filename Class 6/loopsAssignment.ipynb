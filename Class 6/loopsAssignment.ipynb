{
 "cells": [
  {
   "cell_type": "markdown",
   "metadata": {},
   "source": [
    "# Mastering Python Loops Assignment\n",
    "\n",
    "## Exercise 1: Basic Loop Structures\n",
    "\n",
    "Understanding the basics of loops is essential for iteration in Python.\n",
    "\n",
    "- **Task 1.1:** Write a `while` loop that prints the numbers 1 through 10.\n",
    "- **Task 1.2:** Write a `for` loop that prints each character in the string `\"Python\"`.\n",
    "- **Task 1.3:** Create a `for` loop that iterates over a list of numbers and prints the square of each number.\n"
   ]
  },
  {
   "cell_type": "code",
   "execution_count": 14,
   "metadata": {},
   "outputs": [
    {
     "name": "stdout",
     "output_type": "stream",
     "text": [
      "1\n",
      "2\n",
      "3\n",
      "4\n",
      "5\n",
      "6\n",
      "7\n",
      "8\n",
      "9\n",
      "P\n",
      "y\n",
      "t\n",
      "h\n",
      "o\n",
      "n\n",
      "1\n",
      "4\n",
      "9\n",
      "16\n",
      "25\n"
     ]
    }
   ],
   "source": [
    "# Task 1\n",
    "i = 1\n",
    "while i<10:\n",
    "    print(i)\n",
    "    i+=1\n",
    "\n",
    "s = \"Python\"\n",
    "i = 0\n",
    "for c in s:\n",
    "    print(c)\n",
    "\n",
    "list1 = [1, 2, 3, 4, 5]\n",
    "for num in list1:\n",
    "    print(num**2)"
   ]
  },
  {
   "cell_type": "markdown",
   "metadata": {},
   "source": [
    "## Exercise 2: Controlling Loop Flow\n",
    "\n",
    "`break` and `continue` statements can modify the flow of loops.\n",
    "\n",
    "- **Task 2.1:** Write a `while` loop that stops printing numbers from 1 to 10 when the number reaches 7 using the `break` statement.\n",
    "- **Task 2.2:** Write a `for` loop that skips printing the number 5 when iterating over numbers 1 through 10 using the `continue` statement."
   ]
  },
  {
   "cell_type": "code",
   "execution_count": 15,
   "metadata": {},
   "outputs": [
    {
     "name": "stdout",
     "output_type": "stream",
     "text": [
      "1\n",
      "2\n",
      "3\n",
      "4\n",
      "5\n",
      "6\n",
      "7\n",
      "1\n",
      "2\n",
      "3\n",
      "4\n",
      "6\n",
      "7\n",
      "8\n",
      "9\n",
      "10\n"
     ]
    }
   ],
   "source": [
    "# Task 2\n",
    "i = 1\n",
    "while i<10:\n",
    "    if i>7: break\n",
    "    else: print(i)\n",
    "    i+=1\n",
    "\n",
    "for num in range(1, 11):\n",
    "    if num == 5: continue\n",
    "    else: print(num)"
   ]
  },
  {
   "cell_type": "markdown",
   "metadata": {},
   "source": [
    "## Exercise 3: Nested Loops\n",
    "\n",
    "Nested loops allow for more complex iterations and data processing.\n",
    "\n",
    "grid_list = [\n",
    "\n",
    "[[0,0],[0,1],[0,2]],\n",
    "\n",
    "[[1,0],[1,1],[1,2]],\n",
    "\n",
    "[[2,0],[2,1],[2,2]]\n",
    "\n",
    "]\n",
    "\n",
    "_CHALLENGE_\n",
    "\n",
    "- **Task 3.1:** Write a nested `for` loop that prints grid_list (i.e., rows and columns of numbers from 0 to 2).\n",
    "\n",
    "- **Task 3.2:** Using nested loops, write a program to print the multiplication table for numbers 1 through 5."
   ]
  },
  {
   "cell_type": "code",
   "execution_count": 16,
   "metadata": {},
   "outputs": [
    {
     "name": "stdout",
     "output_type": "stream",
     "text": [
      "[[0, 0], [0, 1], [0, 2]]\n",
      "[[1, 0], [1, 1], [1, 2]]\n",
      "[[2, 0], [2, 1], [2, 2]]\n",
      "1 * 1 = 1\n",
      "1 * 2 = 2\n",
      "1 * 3 = 3\n",
      "1 * 4 = 4\n",
      "1 * 5 = 5\n",
      "2 * 1 = 2\n",
      "2 * 2 = 4\n",
      "2 * 3 = 6\n",
      "2 * 4 = 8\n",
      "2 * 5 = 10\n",
      "3 * 1 = 3\n",
      "3 * 2 = 6\n",
      "3 * 3 = 9\n",
      "3 * 4 = 12\n",
      "3 * 5 = 15\n",
      "4 * 1 = 4\n",
      "4 * 2 = 8\n",
      "4 * 3 = 12\n",
      "4 * 4 = 16\n",
      "4 * 5 = 20\n",
      "5 * 1 = 5\n",
      "5 * 2 = 10\n",
      "5 * 3 = 15\n",
      "5 * 4 = 20\n",
      "5 * 5 = 25\n"
     ]
    }
   ],
   "source": [
    "# Task 3\n",
    "grid_list = []\n",
    "\n",
    "for i in range(3):\n",
    "    row = []\n",
    "    for j in range(3):\n",
    "        row.append([i, j])\n",
    "    grid_list.append(row)\n",
    "\n",
    "for row in grid_list:\n",
    "    print(row)\n",
    "        \n",
    "for i in range(1, 6):\n",
    "    for j in range(1, 6):\n",
    "        print(f\"{i} * {j} = {i*j}\")"
   ]
  },
  {
   "cell_type": "markdown",
   "metadata": {},
   "source": [
    "## Exercise 4: Looping with Ranges\n",
    "\n",
    "The `range()` function is a useful tool for generating sequences of numbers in loops.\n",
    "\n",
    "- **Task 4.1:** Write a `for` loop that prints only the even numbers from 1 to 20 using the `range()` function.\n",
    "- **Task 4.2:** Write a `for` loop that counts down from 10 to 1 using the `range()` function."
   ]
  },
  {
   "cell_type": "code",
   "execution_count": 17,
   "metadata": {},
   "outputs": [
    {
     "name": "stdout",
     "output_type": "stream",
     "text": [
      "2\n",
      "4\n",
      "6\n",
      "8\n",
      "10\n",
      "12\n",
      "14\n",
      "16\n",
      "18\n",
      "20\n",
      "10\n",
      "9\n",
      "8\n",
      "7\n",
      "6\n",
      "5\n",
      "4\n",
      "3\n",
      "2\n",
      "1\n"
     ]
    }
   ],
   "source": [
    "# Task 4\n",
    "\n",
    "for i in range(1, 21):\n",
    "    if (i%2 == 0): print(i)\n",
    "\n",
    "for i in range(10, 0, -1):\n",
    "    print(i)"
   ]
  },
  {
   "cell_type": "markdown",
   "metadata": {},
   "source": [
    "## Exercise 5: Real-World Applications of Loops\n",
    "\n",
    "Loops can be applied in real-world scenarios for tasks like data processing or automation.\n",
    "\n",
    "- **Task 5.1:** Write a `for` loop that asks the user to input 5 different names and stores them in a list. Then, print each name.\n",
    "- **Task 5.2:** Write a `while` loop that keeps asking the user to guess a secret number until they get it right. Use `break` when they guess correctly."
   ]
  },
  {
   "cell_type": "code",
   "execution_count": 18,
   "metadata": {},
   "outputs": [
    {
     "name": "stdout",
     "output_type": "stream",
     "text": [
      "a\n",
      "b\n",
      "c\n",
      "d\n",
      "e\n",
      "Correct! The number was 7\n"
     ]
    }
   ],
   "source": [
    "# Task 5\n",
    "\n",
    "name_list = []\n",
    "for i in range(0 ,5):\n",
    "    x = input(\"Enter a name: \")\n",
    "    name_list.append(x)\n",
    "\n",
    "for name in name_list:\n",
    "    print(name)\n",
    "\n",
    "import random\n",
    "\n",
    "secret_num = random.randint(1, 10)\n",
    "guessed = False\n",
    "\n",
    "while(not guessed):\n",
    "    x = int(input(\"Enter a guess: \"))\n",
    "    if (x == secret_num):\n",
    "        print(f\"Correct! The number was {secret_num}\")\n",
    "        break"
   ]
  }
 ],
 "metadata": {
  "kernelspec": {
   "display_name": "Python 3",
   "language": "python",
   "name": "python3"
  },
  "language_info": {
   "codemirror_mode": {
    "name": "ipython",
    "version": 3
   },
   "file_extension": ".py",
   "mimetype": "text/x-python",
   "name": "python",
   "nbconvert_exporter": "python",
   "pygments_lexer": "ipython3",
   "version": "3.12.3"
  }
 },
 "nbformat": 4,
 "nbformat_minor": 2
}
