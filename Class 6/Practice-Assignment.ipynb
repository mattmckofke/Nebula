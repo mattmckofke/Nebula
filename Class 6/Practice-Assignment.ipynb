{
 "cells": [
  {
   "cell_type": "markdown",
   "metadata": {},
   "source": [
    "**Practice:**\n",
    "1. **Basic Decision Making:**   \n",
    "- Write a program to check if a number is positive, negative, or zero.   \n",
    "- Input: Any integer.   \n",
    "- Output: A string stating the type of number."
   ]
  },
  {
   "cell_type": "code",
   "execution_count": 8,
   "metadata": {},
   "outputs": [
    {
     "name": "stdout",
     "output_type": "stream",
     "text": [
      "-5 is negative\n"
     ]
    }
   ],
   "source": [
    "# Task 1\n",
    "x = int(input(\"Enter any integer: \"))\n",
    "if (x > 0): print(str(x) + \" is positive\")\n",
    "elif (x == 0): print(str(x) + \" is zero\")\n",
    "else: print(str(x) + \" is negative\")"
   ]
  },
  {
   "cell_type": "markdown",
   "metadata": {},
   "source": [
    "2. **Logical Operators:**   \n",
    "- Create a program that determines if a year is a leap year. Use logical operators.   \n",
    "- Input: A year.   \n",
    "- Output: True if a leap year, False otherwise."
   ]
  },
  {
   "cell_type": "code",
   "execution_count": 10,
   "metadata": {},
   "outputs": [
    {
     "name": "stdout",
     "output_type": "stream",
     "text": [
      "False\n"
     ]
    }
   ],
   "source": [
    "# Task 2\n",
    "year = int(input(\"Enter a year: \"))\n",
    "if (year % 4 == 0 and year % 100 != 0) or (year % 400 == 0): print(True)\n",
    "else: print(False)"
   ]
  },
  {
   "cell_type": "markdown",
   "metadata": {},
   "source": [
    "3. **Nested Conditional Statements:**   \n",
    "- Develop a program that categorizes a person's life stage: child (< 18), adult (18-64), senior (> 64).   \n",
    "- Input: Age as an integer.   \n",
    "- Output: The life stage."
   ]
  },
  {
   "cell_type": "code",
   "execution_count": 13,
   "metadata": {},
   "outputs": [
    {
     "name": "stdout",
     "output_type": "stream",
     "text": [
      "Senior\n"
     ]
    }
   ],
   "source": [
    "# Task 3\n",
    "age = int(input(\"Enter age: \"))\n",
    "if (age < 18): print(\"Child\")\n",
    "elif (age > 64): print(\"Senior\")\n",
    "else: print(\"Adult\")"
   ]
  }
 ],
 "metadata": {
  "kernelspec": {
   "display_name": "Python 3",
   "language": "python",
   "name": "python3"
  },
  "language_info": {
   "codemirror_mode": {
    "name": "ipython",
    "version": 3
   },
   "file_extension": ".py",
   "mimetype": "text/x-python",
   "name": "python",
   "nbconvert_exporter": "python",
   "pygments_lexer": "ipython3",
   "version": "3.12.3"
  }
 },
 "nbformat": 4,
 "nbformat_minor": 2
}
