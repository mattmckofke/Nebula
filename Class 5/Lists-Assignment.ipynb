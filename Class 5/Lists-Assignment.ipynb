{
 "cells": [
  {
   "cell_type": "markdown",
   "metadata": {},
   "source": [
    "# Python Lists Assignment (Revised)\n",
    "\n",
    "## Exercise 1: List Creation and Basic Operations\n",
    "\n",
    "Lists in Python are flexible structures that can hold various data types, essential for organizing and manipulating data.\n"
   ]
  },
  {
   "cell_type": "markdown",
   "metadata": {},
   "source": [
    "* **Task 1.1:** Create a list named `my_list` with the elements `1`,  `\"hello\"`, and `3.14`. Print the list to verify its contents.\n"
   ]
  },
  {
   "cell_type": "code",
   "execution_count": 1,
   "metadata": {},
   "outputs": [
    {
     "name": "stdout",
     "output_type": "stream",
     "text": [
      "[1, 'hello', 3.14]\n"
     ]
    }
   ],
   "source": [
    "# Task 1.1\n",
    "my_list = [1, \"hello\", 3.14]\n",
    "print(my_list)"
   ]
  },
  {
   "cell_type": "markdown",
   "metadata": {},
   "source": [
    "* **Task 1.2:** Add the number `5` to `my_list` using the `append()` method and print the updated list.\n"
   ]
  },
  {
   "cell_type": "code",
   "execution_count": 2,
   "metadata": {},
   "outputs": [
    {
     "name": "stdout",
     "output_type": "stream",
     "text": [
      "[1, 'hello', 3.14, 5]\n"
     ]
    }
   ],
   "source": [
    "# Task 1.2\n",
    "my_list.append(5)\n",
    "print(my_list)"
   ]
  },
  {
   "cell_type": "markdown",
   "metadata": {},
   "source": [
    "* **Task 1.3:** Now extend `my_list` by adding two elements,  `6` and `7`, in a single operation. Print the updated list.\n"
   ]
  },
  {
   "cell_type": "code",
   "execution_count": 3,
   "metadata": {},
   "outputs": [
    {
     "name": "stdout",
     "output_type": "stream",
     "text": [
      "[1, 'hello', 3.14, 5, 6, 7]\n"
     ]
    }
   ],
   "source": [
    "# Task 1.3\n",
    "my_list.extend([6, 7])\n",
    "print(my_list)"
   ]
  },
  {
   "cell_type": "markdown",
   "metadata": {},
   "source": [
    "## Exercise 2: Advanced List Manipulations\n",
    "\n",
    "Further understanding of lists involves mastering their more complex behaviors.\n",
    "\n",
    "* **Task 2.1:** Insert the string `\"inserted\"` at the third position in `my_list` using the `insert()` method and print the modified list.\n"
   ]
  },
  {
   "cell_type": "code",
   "execution_count": 4,
   "metadata": {},
   "outputs": [
    {
     "name": "stdout",
     "output_type": "stream",
     "text": [
      "[1, 'hello', 'inserted', 3.14, 5, 6, 7]\n"
     ]
    }
   ],
   "source": [
    "# Task 2.1\n",
    "my_list.insert(2, \"inserted\")\n",
    "print(my_list)"
   ]
  },
  {
   "cell_type": "markdown",
   "metadata": {},
   "source": [
    "* **Task 2.2:** Use the `pop()` method to remove the element at the fourth position in `my_list`. Store the popped item in a variable named `popped_element` and print both `popped_element` and the updated `my_list`.\n"
   ]
  },
  {
   "cell_type": "code",
   "execution_count": 5,
   "metadata": {},
   "outputs": [
    {
     "name": "stdout",
     "output_type": "stream",
     "text": [
      "inserted [1, 'hello', 3.14, 5, 6, 7]\n"
     ]
    }
   ],
   "source": [
    "# Task 2.2\n",
    "# Remove third and not 4th, causes issues for 2.3\n",
    "popped_element = my_list.pop(2)\n",
    "print(popped_element, my_list)"
   ]
  },
  {
   "cell_type": "markdown",
   "metadata": {},
   "source": [
    "* **Task 2.3:** Remove the first occurrence of the element `3.14` from `my_list` using the `remove()` method. Print the updated list.\n"
   ]
  },
  {
   "cell_type": "code",
   "execution_count": 6,
   "metadata": {},
   "outputs": [
    {
     "name": "stdout",
     "output_type": "stream",
     "text": [
      "[1, 'hello', 5, 6, 7]\n"
     ]
    }
   ],
   "source": [
    "# Task 2.3\n",
    "my_list.remove(3.14)\n",
    "print(my_list)"
   ]
  },
  {
   "cell_type": "markdown",
   "metadata": {},
   "source": [
    "* **Task 2.4:** Sort `my_list` in ascending order using the `sort()` method and then print the sorted list.\n"
   ]
  },
  {
   "cell_type": "code",
   "execution_count": 7,
   "metadata": {},
   "outputs": [
    {
     "name": "stdout",
     "output_type": "stream",
     "text": [
      "[1, 5, 6, 7]\n"
     ]
    }
   ],
   "source": [
    "# Task 2.4\n",
    "# Remove string \"hello\" from list, causes issues with sort method\n",
    "my_list.remove(\"hello\")\n",
    "my_list.sort()\n",
    "print(my_list)"
   ]
  },
  {
   "cell_type": "markdown",
   "metadata": {},
   "source": [
    "## Exercise 3: Exploring Nested Lists\n",
    "\n",
    "Nested lists provide a way to store and manipulate multidimensional data.\n",
    "\n",
    "* **Task 3.1:** Create a nested list named `nested_list` consisting of three lists: `[1, 2, 3]`,  `[\"a\", \"b\", \"c\"]`, and `[4.5, 5.6]`. Print `nested_list`."
   ]
  },
  {
   "cell_type": "code",
   "execution_count": 11,
   "metadata": {},
   "outputs": [
    {
     "name": "stdout",
     "output_type": "stream",
     "text": [
      "[[1, 2, 3], ['a', 'b', 'c'], [4.5, 5.6]]\n"
     ]
    }
   ],
   "source": [
    "# Task 3.1\n",
    "nested_list = [[1, 2, 3], [\"a\", \"b\", \"c\"], [4.5, 5.6]]\n",
    "print(nested_list)"
   ]
  },
  {
   "cell_type": "markdown",
   "metadata": {},
   "source": [
    "* **Task 3.2:** Access and print the second element from the first inner list of `nested_list`."
   ]
  },
  {
   "cell_type": "code",
   "execution_count": 12,
   "metadata": {},
   "outputs": [
    {
     "name": "stdout",
     "output_type": "stream",
     "text": [
      "2\n"
     ]
    }
   ],
   "source": [
    "# Task 3.2\n",
    "print(nested_list[0][1])"
   ]
  },
  {
   "cell_type": "markdown",
   "metadata": {},
   "source": [
    "## Reflection\n",
    "\n",
    "After completing these exercises, consider the following questions and write a short paragraph reflecting on your answers:\n",
    "\n",
    "* How do lists in Python enhance the management and manipulation of data?\n",
    "* Describe a situation where a nested list might be more beneficial than a flat list.\n"
   ]
  },
  {
   "cell_type": "markdown",
   "metadata": {},
   "source": [
    "###### Lists in python enhance our experience with data by allowing us more control and access to large data sets\n",
    "###### A nested list would be good to display a matrix of data"
   ]
  }
 ],
 "metadata": {
  "kernelspec": {
   "display_name": "Python 3",
   "language": "python",
   "name": "python3"
  },
  "language_info": {
   "codemirror_mode": {
    "name": "ipython",
    "version": 3
   },
   "file_extension": ".py",
   "mimetype": "text/x-python",
   "name": "python",
   "nbconvert_exporter": "python",
   "pygments_lexer": "ipython3",
   "version": "3.12.3"
  }
 },
 "nbformat": 4,
 "nbformat_minor": 2
}
