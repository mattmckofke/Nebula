{
 "cells": [
  {
   "cell_type": "markdown",
   "metadata": {},
   "source": [
    "# List, Tuples, and Dictionaries Homework\n"
   ]
  },
  {
   "cell_type": "markdown",
   "metadata": {},
   "source": [
    "### Part 1: Lists\n",
    "\n",
    "#### Task 1.1: List Creation and Expansion\n",
    "* Create a list named `my_list` with `1`,  `\"hello\"`, and `3.14`. Print it.\n",
    "* Append `4` and `\"world\"` to `my_list`, then print the updated list.\n",
    "* Extend `my_list` with another list `[\"apple\", \"banana\", \"cherry\"]` and print the result.\n"
   ]
  },
  {
   "cell_type": "code",
   "execution_count": 12,
   "metadata": {},
   "outputs": [
    {
     "name": "stdout",
     "output_type": "stream",
     "text": [
      "[1, 'hello', 3.14]\n",
      "[1, 'hello', 3.14, 'world']\n",
      "[1, 'hello', 3.14, 'world', 'apple', 'banana', 'cherry']\n"
     ]
    }
   ],
   "source": [
    "# Task 1.1\n",
    "my_list = [1, \"hello\", 3.14]\n",
    "print(my_list)\n",
    "my_list.append(\"world\")\n",
    "print(my_list)\n",
    "my_list.extend([\"apple\", \"banana\", \"cherry\"])\n",
    "print(my_list)"
   ]
  },
  {
   "cell_type": "markdown",
   "metadata": {},
   "source": [
    "#### Task 1.2: List Manipulation and Inquiry\n",
    "\n",
    "* Insert `\"Python\"` at the second position in `my_list` and print the list.\n",
    "* Remove `\"hello\"` from `my_list` and print the updated list.\n",
    "* Print the length, minimum, and maximum values of `my_list` (convert elements to a common type if necessary).\n"
   ]
  },
  {
   "cell_type": "code",
   "execution_count": 13,
   "metadata": {},
   "outputs": [
    {
     "name": "stdout",
     "output_type": "stream",
     "text": [
      "[1, 'Python', 'hello', 3.14, 'world', 'apple', 'banana', 'cherry']\n",
      "[1, 'Python', 3.14, 'world', 'apple', 'banana', 'cherry']\n",
      "7 1 1\n"
     ]
    }
   ],
   "source": [
    "# Task 1.2\n",
    "my_list.insert(1, \"Python\")\n",
    "print(my_list)\n",
    "my_list.remove(\"hello\")\n",
    "print(my_list)\n",
    "numList = [item for item in my_list if isinstance(item, (int))]\n",
    "print(len(my_list), min(numList), max(numList))"
   ]
  },
  {
   "cell_type": "markdown",
   "metadata": {},
   "source": [
    "#### Task 1.3: Advanced List Techniques\n",
    "\n",
    "* Create a nested list `nested_list` with `[1, 2, 3]`,  `[\"a\", \"b\", \"c\"]`, and `[4.5, 5.6, 7.8]`.\n",
    "* Access and print the last element of the last nested list in `nested_list`.\n",
    "* Sort `my_list` in reverse order and print it.\n"
   ]
  },
  {
   "cell_type": "code",
   "execution_count": 15,
   "metadata": {},
   "outputs": [
    {
     "name": "stdout",
     "output_type": "stream",
     "text": [
      "7.8\n"
     ]
    }
   ],
   "source": [
    "# Task 1.3\n",
    "nested_list = [[1, 2, 3], [\"a\", \"b\", \"c\"], [4.5, 5.6, 7.8]]\n",
    "print(nested_list[-1][-1])"
   ]
  },
  {
   "cell_type": "markdown",
   "metadata": {},
   "source": [
    "### Part 2: Tuples\n",
    "\n",
    "#### Task 2.1: Tuple Creation and Exploration\n",
    "* Create a tuple `my_tuple` with `(\"Python\", 3.8, \"Programming\", 3.8)`.\n",
    "* Print the first and last elements of `my_tuple`.\n",
    "* Determine and print the index of `\"Programming\"` in `my_tuple`.\n"
   ]
  },
  {
   "cell_type": "code",
   "execution_count": 16,
   "metadata": {},
   "outputs": [
    {
     "name": "stdout",
     "output_type": "stream",
     "text": [
      "Python 3.8\n",
      "2\n"
     ]
    }
   ],
   "source": [
    "# Task 2.1\n",
    "my_tuple = (\"Python\", 3.8, \"Programming\", 3.8)\n",
    "print(my_tuple[0], my_tuple[-1])\n",
    "print(my_tuple.index(\"Programming\"))"
   ]
  },
  {
   "cell_type": "markdown",
   "metadata": {},
   "source": [
    "#### Task 2.2: Advanced Tuple Operations\n",
    "\n",
    "* Count and print how often `3.8` appears in `my_tuple`.\n",
    "* Unpack `my_tuple` into four variables (add an extra element to `my_tuple` if needed) and print them.\n",
    "* Attempt to modify the second element of `my_tuple` and capture the error message.\n"
   ]
  },
  {
   "cell_type": "code",
   "execution_count": 18,
   "metadata": {},
   "outputs": [
    {
     "name": "stdout",
     "output_type": "stream",
     "text": [
      "2\n",
      "Python 3.8 Programming 3.8\n"
     ]
    },
    {
     "ename": "TypeError",
     "evalue": "'tuple' object does not support item assignment",
     "output_type": "error",
     "traceback": [
      "\u001b[1;31m---------------------------------------------------------------------------\u001b[0m",
      "\u001b[1;31mTypeError\u001b[0m                                 Traceback (most recent call last)",
      "Cell \u001b[1;32mIn[18], line 5\u001b[0m\n\u001b[0;32m      3\u001b[0m (a, b, c, d) \u001b[38;5;241m=\u001b[39m my_tuple\n\u001b[0;32m      4\u001b[0m \u001b[38;5;28mprint\u001b[39m(a, b, c, d)\n\u001b[1;32m----> 5\u001b[0m \u001b[43mmy_tuple\u001b[49m\u001b[43m[\u001b[49m\u001b[38;5;241;43m1\u001b[39;49m\u001b[43m]\u001b[49m \u001b[38;5;241m=\u001b[39m \u001b[38;5;124m\"\u001b[39m\u001b[38;5;124m\"\u001b[39m\n",
      "\u001b[1;31mTypeError\u001b[0m: 'tuple' object does not support item assignment"
     ]
    }
   ],
   "source": [
    "# Task 2.2\n",
    "print(my_tuple.count(3.8))\n",
    "(a, b, c, d) = my_tuple\n",
    "print(a, b, c, d)\n",
    "my_tuple[1] = \"\""
   ]
  },
  {
   "cell_type": "markdown",
   "metadata": {},
   "source": [
    "### Part 3: Dictionaries\n",
    "\n",
    "#### Task 3.1: Dictionary Basics and Modification\n",
    "* Create a dictionary `my_dict` with `\"name\"`,  `\"age\"`,  `\"language\"` keys and corresponding values.\n",
    "* Use `get` to print the value of `\"age\"`, providing a default value if the key is not found.\n",
    "* Update `my_dict` with `\"email\": \"john@example.com\"` and `\"age\": 31`, then print the updated dictionary.\n"
   ]
  },
  {
   "cell_type": "code",
   "execution_count": 5,
   "metadata": {},
   "outputs": [
    {
     "name": "stdout",
     "output_type": "stream",
     "text": [
      "19\n",
      "{'name': 'Matt', 'age': 31, 'language': 'English', 'email': 'john@example'}\n"
     ]
    }
   ],
   "source": [
    "# Task 3.1\n",
    "my_dict = {\"name\": \"Matt\", \"age\": 19, \"language\": \"English\"}\n",
    "print(my_dict.get(\"age\", 0))\n",
    "my_dict.update({\"email\": \"john@example\", \"age\": 31})\n",
    "print(my_dict)"
   ]
  },
  {
   "cell_type": "markdown",
   "metadata": {},
   "source": [
    "#### Task 3.2: Dictionary Methods and Nested Structures\n",
    "\n",
    "* Use appropriate methods to print all keys and values in `my_dict` separately.\n",
    "* Create a nested dictionary `nested_dict` with keys `\"personal\"` and `\"professional\"`, each holding another dictionary.\n",
    "* Access and print a value from each nested dictionary in `nested_dict`.\n"
   ]
  },
  {
   "cell_type": "code",
   "execution_count": 8,
   "metadata": {},
   "outputs": [
    {
     "name": "stdout",
     "output_type": "stream",
     "text": [
      "dict_keys(['name', 'age', 'language', 'email']) \n",
      " dict_values(['Matt', 31, 'English', 'john@example'])\n",
      "hey hello\n"
     ]
    }
   ],
   "source": [
    "# Task 3.2\n",
    "print(my_dict.keys(), \"\\n\", my_dict.values())\n",
    "nested_dict = {\"personal\": {\"greeting\": \"hey\"}, \"professional\": {\"greeting\": \"hello\"}}\n",
    "print(nested_dict.get(\"personal\").get(\"greeting\"), nested_dict.get(\"professional\").get(\"greeting\"))"
   ]
  },
  {
   "cell_type": "markdown",
   "metadata": {},
   "source": [
    "#### Task 3.3: Dictionary Comprehensions and Removals\n",
    "\n",
    "* Write a dictionary comprehension to swap keys and values in `my_dict` and print it.\n",
    "* Remove the key `\"language\"` from `my_dict` using `pop()` and print the popped value and the updated dictionary.\n",
    "* Use `items()` to print each key-value pair in `my_dict`.\n"
   ]
  },
  {
   "cell_type": "code",
   "execution_count": 10,
   "metadata": {},
   "outputs": [
    {
     "name": "stdout",
     "output_type": "stream",
     "text": [
      "{1: 'a', 2: 'b', 3: 'c', 4: 'd', 5: 'e', 'English': 'language'}\n",
      "English {'a': 1, 'b': 2, 'c': 3, 'd': 4, 'e': 5}\n"
     ]
    }
   ],
   "source": [
    "# Task 3.3\n",
    "my_dict = {\"a\": 1, \"b\": 2, \"c\": 3, \"d\": 4, \"e\": 5, \"language\": \"English\"}\n",
    "swapped = {value: key for key, value in my_dict.items()}\n",
    "print(swapped)\n",
    "print(my_dict.pop(\"language\"), my_dict)"
   ]
  }
 ],
 "metadata": {
  "kernelspec": {
   "display_name": "Python 3",
   "language": "python",
   "name": "python3"
  },
  "language_info": {
   "codemirror_mode": {
    "name": "ipython",
    "version": 3
   },
   "file_extension": ".py",
   "mimetype": "text/x-python",
   "name": "python",
   "nbconvert_exporter": "python",
   "pygments_lexer": "ipython3",
   "version": "3.12.3"
  }
 },
 "nbformat": 4,
 "nbformat_minor": 2
}
