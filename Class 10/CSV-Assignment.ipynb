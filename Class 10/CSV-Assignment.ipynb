{
 "cells": [
  {
   "cell_type": "markdown",
   "metadata": {},
   "source": [
    "# CSV File Handling Assignment\n",
    "\n",
    "## Exercise 1: Basic CSV File Operations\n",
    "\n",
    "In this exercise, you'll apply basic operations on CSV files using Python's `csv` module.\n",
    "\n",
    "* **Task 1.1:** Write a Python script to create a CSV file named `students.csv` and add the following data to it:\n",
    "    - Headers: `Name`, `Age`, `Major`\n",
    "    - Rows: \n",
    "        - Alice, 24, Computer Science\n",
    "        - Bob, 22, Mathematics\n",
    "        - Charlie, 23, Physics\n",
    "    - Ensure you close the file properly after writing."
   ]
  },
  {
   "cell_type": "code",
   "execution_count": 1,
   "metadata": {},
   "outputs": [],
   "source": [
    "# Task 1.1\n",
    "import csv\n",
    "\n",
    "header = [\"Name\", \"Age\", \"Major\"]\n",
    "data = [[\"Alice\", 24, \"Computer Science\"],\n",
    "        [\"Bob\", 22, \"Mathematics\"],\n",
    "        [\"Charlie\", 23, \"Physics\"]\n",
    "        ]\n",
    "\n",
    "with open(\"students.csv\", \"w\", newline=\"\") as file:\n",
    "    writer = csv.writer(file)\n",
    "    writer.writerow(header)\n",
    "    writer.writerows(data)"
   ]
  },
  {
   "cell_type": "markdown",
   "metadata": {},
   "source": [
    "* **Task 1.2:** Read the file `students.csv` you just created, print each row to the console."
   ]
  },
  {
   "cell_type": "code",
   "execution_count": 2,
   "metadata": {},
   "outputs": [
    {
     "name": "stdout",
     "output_type": "stream",
     "text": [
      "['Name', 'Age', 'Major']\n",
      "['Alice', '24', 'Computer Science']\n",
      "['Bob', '22', 'Mathematics']\n",
      "['Charlie', '23', 'Physics']\n"
     ]
    }
   ],
   "source": [
    "# Task 1.2\n",
    "with open(\"students.csv\", \"r\") as file:\n",
    "    reader = csv.reader(file)\n",
    "    for row in reader:\n",
    "        print(row)"
   ]
  },
  {
   "cell_type": "markdown",
   "metadata": {},
   "source": [
    "* **Task 1.3:** Append a new row with your own choice of data to `students.csv` and print the entire file content to verify the addition."
   ]
  },
  {
   "cell_type": "code",
   "execution_count": 3,
   "metadata": {},
   "outputs": [
    {
     "name": "stdout",
     "output_type": "stream",
     "text": [
      "['Name', 'Age', 'Major']\n",
      "['Alice', '24', 'Computer Science']\n",
      "['Bob', '22', 'Mathematics']\n",
      "['Charlie', '23', 'Physics']\n",
      "['Matt', '19', 'Information Technology']\n"
     ]
    }
   ],
   "source": [
    "# Task 1.3\n",
    "with open(\"students.csv\", \"a\", newline=\"\") as file:\n",
    "    writer = csv.writer(file)\n",
    "    writer.writerow([\"Matt\", 19, \"Information Technology\"])\n",
    "\n",
    "with open(\"students.csv\", \"r\") as file:\n",
    "    reader = csv.reader(file)\n",
    "    for row in reader:\n",
    "        print(row)"
   ]
  },
  {
   "cell_type": "markdown",
   "metadata": {},
   "source": [
    "## Exercise 2: Advanced CSV Handling\n",
    "\n",
    "Let's explore more sophisticated CSV handling techniques.\n",
    "\n",
    "* **Task 2.1:** Create a CSV file `courses.csv` using a dictionary with fieldnames as `CourseID`, `CourseName`, and `Instructor`. Add at least 3 courses to the CSV and print the content of the file."
   ]
  },
  {
   "cell_type": "code",
   "execution_count": 4,
   "metadata": {},
   "outputs": [
    {
     "name": "stdout",
     "output_type": "stream",
     "text": [
      "['CourseID', 'CourseName', 'Instructor']\n",
      "['CSE 101', 'Introduction to Computer Science', 'Professor Smith']\n",
      "['MAT 101', 'Calculus I', 'Professor Johnson']\n",
      "['PHY 101', 'Physics I', 'Professor Brown']\n"
     ]
    }
   ],
   "source": [
    "# Task 2.1\n",
    "header = [\"CourseID\", \"CourseName\", \"Instructor\"]\n",
    "data = [{\"CourseID\": \"CSE 101\", \"CourseName\": \"Introduction to Computer Science\", \"Instructor\": \"Professor Smith\"},\n",
    "        {\"CourseID\": \"MAT 101\", \"CourseName\": \"Calculus I\", \"Instructor\": \"Professor Johnson\"},\n",
    "        {\"CourseID\": \"PHY 101\", \"CourseName\": \"Physics I\", \"Instructor\": \"Professor Brown\"}\n",
    "        ]\n",
    "\n",
    "with open(\"courses.csv\", \"w\", newline=\"\") as file:\n",
    "    writer = csv.DictWriter(file, fieldnames=header)\n",
    "    writer.writeheader()\n",
    "    writer.writerows(data)\n",
    "\n",
    "with open(\"courses.csv\", \"r\") as file:\n",
    "    reader = csv.reader(file)\n",
    "    for row in reader:\n",
    "        print(row)"
   ]
  },
  {
   "cell_type": "markdown",
   "metadata": {},
   "source": [
    "* **Task 2.2:** Read the `courses.csv` file using `DictReader` and print each row as a dictionary."
   ]
  },
  {
   "cell_type": "code",
   "execution_count": 5,
   "metadata": {},
   "outputs": [
    {
     "name": "stdout",
     "output_type": "stream",
     "text": [
      "{'CourseID': 'CSE 101', 'CourseName': 'Introduction to Computer Science', 'Instructor': 'Professor Smith'}\n",
      "{'CourseID': 'MAT 101', 'CourseName': 'Calculus I', 'Instructor': 'Professor Johnson'}\n",
      "{'CourseID': 'PHY 101', 'CourseName': 'Physics I', 'Instructor': 'Professor Brown'}\n"
     ]
    }
   ],
   "source": [
    "# Task 2.2\n",
    "with open(\"courses.csv\", \"r\") as file:\n",
    "    reader = csv.DictReader(file)\n",
    "    for row in reader:\n",
    "        print(dict(row))"
   ]
  },
  {
   "cell_type": "markdown",
   "metadata": {},
   "source": [
    "* **Task 2.3:** Modify the delimiter of your CSV writer and reader to use a semicolon (`;`) instead of a comma, create a new file `courses_semicolon.csv` and perform read/write operations. Verify by printing the content.\n"
   ]
  },
  {
   "cell_type": "code",
   "execution_count": 7,
   "metadata": {},
   "outputs": [
    {
     "name": "stdout",
     "output_type": "stream",
     "text": [
      "['CourseID;CourseName;Instructor']\n",
      "['CSE 101;Introduction to Computer Science;Professor Smith']\n",
      "['MAT 101;Calculus I;Professor Johnson']\n",
      "['PHY 101;Physics I;Professor Brown']\n"
     ]
    }
   ],
   "source": [
    "# Task 2.3\n",
    "with open(\"courses_semicolon.csv\", \"w\", newline=\"\") as file:\n",
    "    writer = csv.DictWriter(file, fieldnames=header, delimiter=\";\")\n",
    "    writer.writeheader()\n",
    "    writer.writerows(data)\n",
    "\n",
    "with open(\"courses_semicolon.csv\", \"r\") as file:\n",
    "    reader = csv.reader(file)\n",
    "    for row in reader:\n",
    "        print(row)"
   ]
  },
  {
   "cell_type": "markdown",
   "metadata": {},
   "source": [
    "## Exercise 3: Error Handling\n",
    "\n",
    "Implement error handling in file operations to manage unexpected situations.\n",
    "\n",
    "* **Task 3.1:** Attempt to read a file `nonexistent.csv` that does not exist, handle the `FileNotFoundError` to print a custom error message instead of the default traceback.\n"
   ]
  },
  {
   "cell_type": "code",
   "execution_count": 8,
   "metadata": {},
   "outputs": [
    {
     "name": "stdout",
     "output_type": "stream",
     "text": [
      "File not found\n"
     ]
    }
   ],
   "source": [
    "# Task 3.1\n",
    "try:\n",
    "    with open(\"nonexistent.csv\", \"r\") as file:\n",
    "        reader = csv.reader(file)\n",
    "        for row in reader:\n",
    "            print(row)\n",
    "except FileNotFoundError:\n",
    "    print(\"File not found\")"
   ]
  },
  {
   "cell_type": "markdown",
   "metadata": {},
   "source": [
    "## Reflection\n",
    "\n",
    "Upon completion of these exercises, reflect on the following points and write a short paragraph:\n",
    "\n",
    "- Discuss the importance of using the `csv` module for handling CSV files in Python projects.\n",
    "- How does handling errors and using custom delimiters enhance the robustness and flexibility of file operations?\n",
    "- Reflect on how the assignment helped you understand the practical application of CSV file operations in real-world projects."
   ]
  },
  {
   "cell_type": "markdown",
   "metadata": {
    "vscode": {
     "languageId": "markdown"
    }
   },
   "source": [
    "###### The csv module is crucial for handling CSV files in Python projects because it provides a simple and efficient way to read from and write to CSV files.\n",
    "\n",
    "###### Handling errors and using custom delimiters enhance the robustness and flexibility of file operations.\n",
    "\n",
    "###### This assignment has helped me understand the practical application of CSV file operations in real-world projects."
   ]
  }
 ],
 "metadata": {
  "kernelspec": {
   "display_name": "Python 3",
   "language": "python",
   "name": "python3"
  },
  "language_info": {
   "codemirror_mode": {
    "name": "ipython",
    "version": 3
   },
   "file_extension": ".py",
   "mimetype": "text/x-python",
   "name": "python",
   "nbconvert_exporter": "python",
   "pygments_lexer": "ipython3",
   "version": "3.12.3"
  }
 },
 "nbformat": 4,
 "nbformat_minor": 2
}
