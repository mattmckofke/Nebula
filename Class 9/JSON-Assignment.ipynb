{
 "cells": [
  {
   "cell_type": "markdown",
   "metadata": {},
   "source": [
    "# JSON Handling in Python Assignment\n",
    "\n",
    "## Exercise 1: Parsing JSON Strings\n",
    "\n",
    "Understanding how to convert JSON strings into Python data structures is a fundamental skill for working with JSON in Python.\n",
    "\n",
    "* **Task 1.1:** Given the JSON string `{\"name\": \"Alice\", \"age\": 30, \"city\": \"New York\"}`, parse it into a Python dictionary and print the dictionary."
   ]
  },
  {
   "cell_type": "code",
   "execution_count": 1,
   "metadata": {},
   "outputs": [
    {
     "name": "stdout",
     "output_type": "stream",
     "text": [
      "{'name': 'Alice', 'age': 30, 'city': 'New York'}\n"
     ]
    }
   ],
   "source": [
    "# Task 1.1\n",
    "import json\n",
    "\n",
    "json_string = \"\"\"{\"name\": \"Alice\", \"age\": 30, \"city\": \"New York\"}\"\"\"\n",
    "\n",
    "dict = json.loads(json_string)\n",
    "print(dict)"
   ]
  },
  {
   "cell_type": "markdown",
   "metadata": {},
   "source": [
    "* **Task 1.2:** Access the value of the `name` key from the dictionary created in Task 1.1 and print it.\n"
   ]
  },
  {
   "cell_type": "code",
   "execution_count": 2,
   "metadata": {},
   "outputs": [
    {
     "name": "stdout",
     "output_type": "stream",
     "text": [
      "Alice\n"
     ]
    }
   ],
   "source": [
    "# Task 1.2\n",
    "\n",
    "print(dict[\"name\"])"
   ]
  },
  {
   "cell_type": "markdown",
   "metadata": {},
   "source": [
    "* **Task 1.3:** Modify the `age` value to `31` in the dictionary from Task 1.1 and print the updated dictionary.\n"
   ]
  },
  {
   "cell_type": "code",
   "execution_count": 3,
   "metadata": {},
   "outputs": [
    {
     "name": "stdout",
     "output_type": "stream",
     "text": [
      "{'name': 'Alice', 'age': 31, 'city': 'New York'}\n"
     ]
    }
   ],
   "source": [
    "# Task 1.3\n",
    "\n",
    "dict[\"age\"] = 31\n",
    "print(dict)"
   ]
  },
  {
   "cell_type": "markdown",
   "metadata": {},
   "source": [
    "## Exercise 2: Generating JSON Strings\n",
    "\n",
    "Converting Python data structures to JSON strings is crucial for data storage and communication.\n",
    "\n",
    "* **Task 2.1:** Create a Python list named `colors` with the elements `\"red\"`, `\"green\"`, and `\"blue\"`. Convert this list to a JSON string and print the string."
   ]
  },
  {
   "cell_type": "code",
   "execution_count": 4,
   "metadata": {},
   "outputs": [
    {
     "name": "stdout",
     "output_type": "stream",
     "text": [
      "[\"red\", \"green\", \"blue\"]\n"
     ]
    }
   ],
   "source": [
    "# Task 2.1\n",
    "\n",
    "colors = [\"red\", \"green\", \"blue\"]\n",
    "\n",
    "colors_json = json.dumps(colors)\n",
    "print(colors_json)"
   ]
  },
  {
   "cell_type": "markdown",
   "metadata": {},
   "source": [
    "* **Task 2.2:** Create a Python dictionary representing a person with keys `name`, `age`, and `skills`, where `skills` is a list of skills. Convert this dictionary to a JSON string with an indentation of 4 spaces and print it."
   ]
  },
  {
   "cell_type": "code",
   "execution_count": 5,
   "metadata": {},
   "outputs": [
    {
     "name": "stdout",
     "output_type": "stream",
     "text": [
      "{\n",
      "    \"name\": \"Matt\",\n",
      "    \"age\": 19,\n",
      "    \"skills\": [\n",
      "        \"Python\",\n",
      "        \"Java\",\n",
      "        \"C#\"\n",
      "    ]\n",
      "}\n"
     ]
    }
   ],
   "source": [
    "# Task 2.2\n",
    "\n",
    "person = {\"name\": \"Matt\", \"age\": 19, \"skills\": [\"Python\", \"Java\", \"C#\"]}\n",
    "\n",
    "json_person = json.dumps(person, indent=4)\n",
    "print(json_person)"
   ]
  },
  {
   "cell_type": "markdown",
   "metadata": {},
   "source": [
    "* **Task 3.1:** Given the nested JSON string `{\"employee\": {\"name\": \"John Doe\", \"roles\": [\"Admin\", \"User\"], \"email\": \"johndoe@example.com\"}}`, parse it into a Python object and print the roles of the employee.\n"
   ]
  },
  {
   "cell_type": "code",
   "execution_count": 14,
   "metadata": {},
   "outputs": [
    {
     "name": "stdout",
     "output_type": "stream",
     "text": [
      "['Admin', 'User']\n"
     ]
    }
   ],
   "source": [
    "# Task 3.1\n",
    "\n",
    "nested_json = \"\"\"{\"employee\": {\"name\": \"John Doe\", \"roles\": [\"Admin\", \"User\"], \"email\": \"johndoe@example.com\"}}\"\"\"\n",
    "\n",
    "parsed = json.loads(nested_json)\n",
    "print(parsed[\"employee\"][\"roles\"])"
   ]
  },
  {
   "cell_type": "markdown",
   "metadata": {},
   "source": [
    "* **Task 3.2:** Add a new role `\"Manager\"` to the employee roles in the Python object from Task 3.1, then convert the entire object back to a JSON string and print it.\n"
   ]
  },
  {
   "cell_type": "code",
   "execution_count": 15,
   "metadata": {},
   "outputs": [
    {
     "name": "stdout",
     "output_type": "stream",
     "text": [
      "{\n",
      "    \"employee\": {\n",
      "        \"name\": \"John Doe\",\n",
      "        \"roles\": [\n",
      "            \"Admin\",\n",
      "            \"User\",\n",
      "            \"Manager\"\n",
      "        ],\n",
      "        \"email\": \"johndoe@example.com\"\n",
      "    }\n",
      "}\n"
     ]
    }
   ],
   "source": [
    "# Task 3.2\n",
    "\n",
    "parsed[\"employee\"][\"roles\"].append(\"Manager\")\n",
    "\n",
    "new_json = json.dumps(parsed, indent=4)\n",
    "print(new_json)"
   ]
  },
  {
   "cell_type": "markdown",
   "metadata": {},
   "source": [
    "## Exercise 4: JSON and Files\n",
    "\n",
    "Working with JSON files is a common task for configuration files, data storage, and more.\n",
    "\n",
    "* **Task 4.1:** Write a Python script to load a JSON file named `data.json` containing an array of objects. Print the loaded data."
   ]
  },
  {
   "cell_type": "code",
   "execution_count": 25,
   "metadata": {},
   "outputs": [
    {
     "name": "stdout",
     "output_type": "stream",
     "text": [
      "{'name': 'Matt', 'age': 19, 'language': 'Python'}\n"
     ]
    }
   ],
   "source": [
    "# Task 4.1\n",
    "import os\n",
    "\n",
    "if (os.path.exists(\"data.json\")):\n",
    "    with open(\"data.json\", \"r\") as file:\n",
    "        data = json.load(file)\n",
    "        print(data)\n",
    "else:\n",
    "    print(\"File does not exist\")"
   ]
  },
  {
   "cell_type": "markdown",
   "metadata": {},
   "source": [
    "* **Task 4.2:** Modify the data loaded in Task 4.1 by adding a new object to the array. Save the updated array back to `data.json`."
   ]
  },
  {
   "cell_type": "code",
   "execution_count": 26,
   "metadata": {},
   "outputs": [],
   "source": [
    "# Task 4.2\n",
    "\n",
    "data[\"language\"] = \"Java\"\n",
    "with open(\"data.json\", \"w\") as file:\n",
    "    json.dump(data, file, indent=4)"
   ]
  },
  {
   "cell_type": "markdown",
   "metadata": {},
   "source": [
    "## Reflection\n",
    "\n",
    "After completing these exercises, reflect on the following questions and write a short paragraph:\n",
    "\n",
    "* What are the advantages of using JSON for data storage and exchange in Python applications?\n",
    "* How does handling complex JSON structures prepare you for working with real-world data?\n",
    "* Reflect on the process of converting between Python objects and JSON strings. How does this impact the way you think about data structures in Python?"
   ]
  },
  {
   "cell_type": "markdown",
   "metadata": {
    "vscode": {
     "languageId": "markdown"
    }
   },
   "source": [
    "###### JSON is lightweight, easy to read and write, and widely supported across different programming languages\n",
    "\n",
    "###### Handling complex JSON structures helps in understanding and manipulating nested data, which is common in real-world applications like APIs\n",
    "\n",
    "###### Converting between Python objects and JSON strings emphasizes the importance of data serialization and deserialization"
   ]
  }
 ],
 "metadata": {
  "kernelspec": {
   "display_name": "Python 3",
   "language": "python",
   "name": "python3"
  },
  "language_info": {
   "codemirror_mode": {
    "name": "ipython",
    "version": 3
   },
   "file_extension": ".py",
   "mimetype": "text/x-python",
   "name": "python",
   "nbconvert_exporter": "python",
   "pygments_lexer": "ipython3",
   "version": "3.12.3"
  }
 },
 "nbformat": 4,
 "nbformat_minor": 2
}
