{
 "cells": [
  {
   "cell_type": "markdown",
   "metadata": {},
   "source": [
    "# 🚀 Advanced Functional Programming Exercises\n",
    "\n",
    "## 1. 🧮 Calculate Total Age in Group\n",
    "\n",
    "Given the following list of people, use `reduce` to calculate the total age of the group.\n",
    "\n",
    "```python\n",
    "people = [\n",
    "    {\"name\": \"Alice\", \"age\": 30},\n",
    "    {\"name\": \"Bob\", \"age\": 25},\n",
    "    {\"name\": \"Charlie\", \"age\": 35},\n",
    "    {\"name\": \"Diana\", \"age\": 40}\n",
    "]\n",
    "```"
   ]
  },
  {
   "cell_type": "code",
   "execution_count": 1,
   "metadata": {},
   "outputs": [
    {
     "name": "stdout",
     "output_type": "stream",
     "text": [
      "130\n"
     ]
    }
   ],
   "source": [
    "import functools\n",
    "\n",
    "people = [\n",
    "    {\"name\": \"Alice\", \"age\": 30},\n",
    "    {\"name\": \"Bob\", \"age\": 25},\n",
    "    {\"name\": \"Charlie\", \"age\": 35},\n",
    "    {\"name\": \"Diana\", \"age\": 40}\n",
    "]\n",
    "\n",
    "# calculate the total age of the group\n",
    "print(functools.reduce(lambda x, person: x + person[\"age\"], people, 0))"
   ]
  },
  {
   "cell_type": "markdown",
   "metadata": {},
   "source": [
    "## 2. 🔍 Find the Oldest Person\n",
    "\n",
    "Using the same `people` list from above, use `reduce` to find the person with the highest age."
   ]
  },
  {
   "cell_type": "code",
   "execution_count": 2,
   "metadata": {},
   "outputs": [
    {
     "name": "stdout",
     "output_type": "stream",
     "text": [
      "Diana\n"
     ]
    }
   ],
   "source": [
    "# find the oldest person\n",
    "print(functools.reduce(lambda x, person: x if x[\"age\"] > person[\"age\"] else person, people).get(\"name\"))\n",
    "# x is set to x if x[\"age\"] > person[\"age\"], otherwise it is set to person"
   ]
  },
  {
   "cell_type": "markdown",
   "metadata": {},
   "source": [
    "## 3. 🔠 Extract Unique Job Titles\n",
    "\n",
    "Given the following list of employees, use `map` and `filter` to extract a list of unique job titles.\n",
    "\n",
    "```python\n",
    "employees = [\n",
    "    {\"name\": \"Alice\", \"job_title\": \"Engineer\"},\n",
    "    {\"name\": \"Bob\", \"job_title\": \"Designer\"},\n",
    "    {\"name\": \"Charlie\", \"job_title\": \"Engineer\"},\n",
    "    {\"name\": \"Diana\", \"job_title\": \"Manager\"},\n",
    "    {\"name\": \"Eve\", \"job_title\": \"Designer\"}\n",
    "]\n",
    "```"
   ]
  },
  {
   "cell_type": "code",
   "execution_count": 3,
   "metadata": {},
   "outputs": [
    {
     "name": "stdout",
     "output_type": "stream",
     "text": [
      "['Designer', 'Manager', 'Engineer']\n"
     ]
    }
   ],
   "source": [
    "employees = [\n",
    "    {\"name\": \"Alice\", \"job_title\": \"Engineer\"},\n",
    "    {\"name\": \"Bob\", \"job_title\": \"Designer\"},\n",
    "    {\"name\": \"Charlie\", \"job_title\": \"Engineer\"},\n",
    "    {\"name\": \"Diana\", \"job_title\": \"Manager\"},\n",
    "    {\"name\": \"Eve\", \"job_title\": \"Designer\"}\n",
    "]\n",
    "\n",
    "# use map to get a list of unique job titles\n",
    "print(list(set(map(lambda employee: employee[\"job_title\"], employees))))\n"
   ]
  },
  {
   "cell_type": "markdown",
   "metadata": {},
   "source": [
    "## 4. 🗂️ Filter and Group by Age Range\n",
    "\n",
    "Using the `people` list, filter out those under 18, then group the remaining people by age range: 18-25, 26-35, 36-45."
   ]
  },
  {
   "cell_type": "code",
   "execution_count": 4,
   "metadata": {},
   "outputs": [
    {
     "name": "stdout",
     "output_type": "stream",
     "text": [
      "{'18-25': ['Bob'], '26-35': ['Alice', 'Charlie'], '36-45': ['Diana']}\n"
     ]
    }
   ],
   "source": [
    "# filter out people who are under 18\n",
    "filtered_people = list(filter(lambda person: person[\"age\"] >= 18, people))\n",
    "\n",
    "# group remaining people by age range\n",
    "age_ranges = {\n",
    "    \"18-25\": [],\n",
    "    \"26-35\": [],\n",
    "    \"36-45\": []\n",
    "}\n",
    "\n",
    "for person in filtered_people:\n",
    "    if 18 <= person[\"age\"] <= 25:\n",
    "        age_ranges[\"18-25\"].append(person[\"name\"])\n",
    "    elif 26 <= person[\"age\"] <= 35:\n",
    "        age_ranges[\"26-35\"].append(person[\"name\"])\n",
    "    elif 36 <= person[\"age\"] <= 45:\n",
    "        age_ranges[\"36-45\"].append(person[\"name\"])\n",
    "\n",
    "print(age_ranges)\n"
   ]
  },
  {
   "cell_type": "markdown",
   "metadata": {},
   "source": [
    "## 5. 🧩 Merge and Count Job Titles\n",
    "\n",
    "With the `employees` list, use `reduce` to create an object that counts how many people have each job title."
   ]
  },
  {
   "cell_type": "code",
   "execution_count": 5,
   "metadata": {},
   "outputs": [
    {
     "name": "stdout",
     "output_type": "stream",
     "text": [
      "{'Engineer': 2, 'Designer': 2, 'Manager': 1}\n"
     ]
    }
   ],
   "source": [
    "# use reduce to create an object that counts how many people have each job title (multi-line version)\n",
    "def count_title(x, employee):\n",
    "    job_title = employee[\"job_title\"]\n",
    "    if job_title in x:\n",
    "        x[job_title] += 1\n",
    "    else:\n",
    "        x[job_title] = 1\n",
    "    return x\n",
    "\n",
    "print(functools.reduce(count_title, employees, {}))"
   ]
  },
  {
   "cell_type": "markdown",
   "metadata": {},
   "source": [
    "## 6. 📊 Calculate Average Salary\n",
    "\n",
    "Using the following list of employees with salaries, use `reduce` to calculate the average salary. Exclude any employees with a salary below 50,000.\n",
    "\n",
    "```python\n",
    "salaries = [\n",
    "    {\"name\": \"Alice\", \"salary\": 60000},\n",
    "    {\"name\": \"Bob\", \"salary\": 45000},\n",
    "    {\"name\": \"Charlie\", \"salary\": 70000},\n",
    "    {\"name\": \"Diana\", \"salary\": 52000},\n",
    "    {\"name\": \"Eve\", \"salary\": 48000}\n",
    "]\n",
    "```"
   ]
  },
  {
   "cell_type": "code",
   "execution_count": 6,
   "metadata": {},
   "outputs": [
    {
     "name": "stdout",
     "output_type": "stream",
     "text": [
      "60666.666666666664\n"
     ]
    }
   ],
   "source": [
    "salaries = [\n",
    "    {\"name\": \"Alice\", \"salary\": 60000},\n",
    "    {\"name\": \"Bob\", \"salary\": 45000},\n",
    "    {\"name\": \"Charlie\", \"salary\": 70000},\n",
    "    {\"name\": \"Diana\", \"salary\": 52000},\n",
    "    {\"name\": \"Eve\", \"salary\": 48000}\n",
    "]\n",
    "\n",
    "filtered = list(filter(lambda employee: employee[\"salary\"] >= 50000, salaries))\n",
    "\n",
    "print(functools.reduce(lambda sum, employee: sum + employee[\"salary\"], filtered, 0) / len(filtered))"
   ]
  },
  {
   "cell_type": "markdown",
   "metadata": {},
   "source": [
    "## 7. 🌱 Filter Active Accounts\n",
    "\n",
    "Given the following list of user accounts, use `filter` to return only active accounts.\n",
    "\n",
    "```python\n",
    "accounts = [\n",
    "    {\"name\": \"Alice\", \"isActive\": True},\n",
    "    {\"name\": \"Bob\", \"isActive\": False},\n",
    "    {\"name\": \"Charlie\", \"isActive\": True},\n",
    "    {\"name\": \"Diana\", \"isActive\": False}\n",
    "]\n",
    "```"
   ]
  },
  {
   "cell_type": "code",
   "execution_count": 7,
   "metadata": {},
   "outputs": [
    {
     "name": "stdout",
     "output_type": "stream",
     "text": [
      "['Alice', 'Charlie']\n"
     ]
    }
   ],
   "source": [
    "accounts = [\n",
    "    {\"name\": \"Alice\", \"isActive\": True},\n",
    "    {\"name\": \"Bob\", \"isActive\": False},\n",
    "    {\"name\": \"Charlie\", \"isActive\": True},\n",
    "    {\"name\": \"Diana\", \"isActive\": False}\n",
    "]\n",
    "\n",
    "filtered = list(filter(lambda acc: acc[\"isActive\"], accounts))\n",
    "\n",
    "print(list(map(lambda acc: acc[\"name\"], filtered)))"
   ]
  },
  {
   "cell_type": "markdown",
   "metadata": {},
   "source": [
    "## 8. 🕹️ Generate Usernames\n",
    "\n",
    "Write a function using `map` to generate usernames from the following list of names in the format `first letter of first name + last name`, all lowercase.\n",
    "\n",
    "```python\n",
    "names = [\n",
    "    {\"first_name\": \"Alice\", \"last_name\": \"Johnson\"},\n",
    "    {\"first_name\": \"Bob\", \"last_name\": \"Smith\"},\n",
    "    {\"first_name\": \"Charlie\", \"last_name\": \"Brown\"},\n",
    "    {\"first_name\": \"Diana\", \"last_name\": \"Williams\"}\n",
    "]\n",
    "```"
   ]
  },
  {
   "cell_type": "code",
   "execution_count": 8,
   "metadata": {},
   "outputs": [
    {
     "name": "stdout",
     "output_type": "stream",
     "text": [
      "['ajohnson', 'bsmith', 'cbrown', 'dwilliams']\n"
     ]
    }
   ],
   "source": [
    "names = [\n",
    "    {\"first_name\": \"Alice\", \"last_name\": \"Johnson\"},\n",
    "    {\"first_name\": \"Bob\", \"last_name\": \"Smith\"},\n",
    "    {\"first_name\": \"Charlie\", \"last_name\": \"Brown\"},\n",
    "    {\"first_name\": \"Diana\", \"last_name\": \"Williams\"}\n",
    "]\n",
    "\n",
    "print(list(map(lambda user: user[\"first_name\"][0].lower() + user[\"last_name\"].lower(), names)))"
   ]
  },
  {
   "cell_type": "markdown",
   "metadata": {},
   "source": [
    "## 9. 📅 Find Longest Employment Duration\n",
    "\n",
    "Given the following list of employees with `hire_date` and `termination_date`, use `reduce` to find the employee with the longest duration of employment.\n",
    "\n",
    "```python\n",
    "employment = [\n",
    "    {\"name\": \"Alice\", \"hire_date\": \"2015-06-01\", \"termination_date\": \"2020-06-01\"},\n",
    "    {\"name\": \"Bob\", \"hire_date\": \"2012-01-01\", \"termination_date\": \"2018-01-01\"},\n",
    "    {\"name\": \"Charlie\", \"hire_date\": \"2017-09-01\", \"termination_date\": \"2022-09-01\"},\n",
    "    {\"name\": \"Diana\", \"hire_date\": \"2013-05-01\", \"termination_date\": \"2019-05-01\"}\n",
    "]\n",
    "```"
   ]
  },
  {
   "cell_type": "code",
   "execution_count": 9,
   "metadata": {},
   "outputs": [
    {
     "name": "stdout",
     "output_type": "stream",
     "text": [
      "Charlie\n"
     ]
    }
   ],
   "source": [
    "employment = [\n",
    "    {\"name\": \"Alice\", \"hire_date\": \"2015-06-01\", \"termination_date\": \"2020-06-01\"},\n",
    "    {\"name\": \"Bob\", \"hire_date\": \"2012-01-01\", \"termination_date\": \"2018-01-01\"},\n",
    "    {\"name\": \"Charlie\", \"hire_date\": \"2017-09-01\", \"termination_date\": \"2022-09-01\"},\n",
    "    {\"name\": \"Diana\", \"hire_date\": \"2013-05-01\", \"termination_date\": \"2019-05-01\"}\n",
    "]\n",
    "# find the employee with the longest duration of employment\n",
    "print(functools.reduce(lambda x, employee: x if (int(employee[\"termination_date\"][:4]) - int(employee[\"hire_date\"][:4])) > (int(x[\"termination_date\"][:4]) - int(x[\"hire_date\"][:4])) else employee, employment).get(\"name\"))"
   ]
  },
  {
   "cell_type": "markdown",
   "metadata": {},
   "source": [
    "## 10. 📍 Sort Locations by Distance\n",
    "\n",
    "Using the following list of locations with latitude and longitude, write a function that uses `map` to calculate distances from a reference point `(0, 0)`, then `sort` the list by distance in ascending order.\n",
    "\n",
    "```python\n",
    "locations = [\n",
    "    {\"name\": \"Place A\", \"latitude\": 34.05, \"longitude\": -118.25},\n",
    "    {\"name\": \"Place B\", \"latitude\": 40.71, \"longitude\": -74.01},\n",
    "    {\"name\": \"Place C\", \"latitude\": 51.51, \"longitude\": -0.13},\n",
    "    {\"name\": \"Place D\", \"latitude\": 48.85, \"longitude\": 2.35}\n",
    "]\n",
    "```"
   ]
  },
  {
   "cell_type": "code",
   "execution_count": 19,
   "metadata": {},
   "outputs": [
    {
     "name": "stdout",
     "output_type": "stream",
     "text": [
      "{'Place A': 123.05472359889319, 'Place B': 84.46765179641258, 'Place C': 51.51016404555513, 'Place D': 48.9064924115398}\n"
     ]
    }
   ],
   "source": [
    "locations = [\n",
    "    {\"name\": \"Place A\", \"latitude\": 34.05, \"longitude\": -118.25},\n",
    "    {\"name\": \"Place B\", \"latitude\": 40.71, \"longitude\": -74.01},\n",
    "    {\"name\": \"Place C\", \"latitude\": 51.51, \"longitude\": -0.13},\n",
    "    {\"name\": \"Place D\", \"latitude\": 48.85, \"longitude\": 2.35}\n",
    "]\n",
    "\n",
    "# write a function that uses to calculate distances from reference point (0, 0)\n",
    "def distance_from_origin(lat, long):\n",
    "    # pythagorean theorem\n",
    "    return ((lat ** 2) + (long ** 2)) ** 0.5 \n",
    "\n",
    "distances = list(map(lambda location: distance_from_origin(location[\"latitude\"], location[\"longitude\"]), locations))\n",
    "# organize the list to say Place A: distance\n",
    "print(dict(zip(map(lambda location: location[\"name\"], locations), distances)))"
   ]
  },
  {
   "cell_type": "markdown",
   "metadata": {},
   "source": [
    "### Extra Challenge 💡\n",
    "\n",
    "Combine multiple functional methods (e.g., `map`, `filter`, `reduce`) to process the following data structure, filtering active users, calculating the total age, and grouping by job title.\n",
    "\n",
    "```python\n",
    "extended_data = [\n",
    "    {\"name\": \"Alice\", \"age\": 30, \"job_title\": \"Engineer\", \"isActive\": True},\n",
    "    {\"name\": \"Bob\", \"age\": 25, \"job_title\": \"Designer\", \"isActive\": False},\n",
    "    {\"name\": \"Charlie\", \"age\": 35, \"job_title\": \"Engineer\", \"isActive\": True},\n",
    "    {\"name\": \"Diana\", \"age\": 40, \"job_title\": \"Manager\", \"isActive\": True},\n",
    "    {\"name\": \"Eve\", \"age\": 28, \"job_title\": \"Designer\", \"isActive\": True}\n",
    "]\n",
    "```"
   ]
  },
  {
   "cell_type": "code",
   "execution_count": null,
   "metadata": {},
   "outputs": [
    {
     "name": "stdout",
     "output_type": "stream",
     "text": [
      "133\n",
      "{'Engineer': ['Alice', 'Charlie'], 'Designer': ['Bob', 'Eve'], 'Manager': ['Diana']}\n"
     ]
    }
   ],
   "source": [
    "extended_data = [\n",
    "    {\"name\": \"Alice\", \"age\": 30, \"job_title\": \"Engineer\", \"isActive\": True},\n",
    "    {\"name\": \"Bob\", \"age\": 25, \"job_title\": \"Designer\", \"isActive\": False},\n",
    "    {\"name\": \"Charlie\", \"age\": 35, \"job_title\": \"Engineer\", \"isActive\": True},\n",
    "    {\"name\": \"Diana\", \"age\": 40, \"job_title\": \"Manager\", \"isActive\": True},\n",
    "    {\"name\": \"Eve\", \"age\": 28, \"job_title\": \"Designer\", \"isActive\": True}\n",
    "]\n",
    "\n",
    "# filter by active users\n",
    "active_users = list(filter(lambda user: user[\"isActive\"], extended_data))\n",
    "\n",
    "# calculate the total age of active users\n",
    "print(functools.reduce(lambda x, user: x + user[\"age\"], active_users, 0))\n",
    "\n",
    "# group by job title\n",
    "job_titles = {}\n",
    "for user in extended_data:\n",
    "    if user[\"job_title\"] in job_titles:\n",
    "        job_titles[user[\"job_title\"]].append(user[\"name\"])\n",
    "    else:\n",
    "        job_titles[user[\"job_title\"]] = [user[\"name\"]]\n",
    "        \n",
    "print(job_titles)"
   ]
  }
 ],
 "metadata": {
  "kernelspec": {
   "display_name": "Python 3",
   "language": "python",
   "name": "python3"
  },
  "language_info": {
   "codemirror_mode": {
    "name": "ipython",
    "version": 3
   },
   "file_extension": ".py",
   "mimetype": "text/x-python",
   "name": "python",
   "nbconvert_exporter": "python",
   "pygments_lexer": "ipython3",
   "version": "3.12.3"
  }
 },
 "nbformat": 4,
 "nbformat_minor": 2
}
