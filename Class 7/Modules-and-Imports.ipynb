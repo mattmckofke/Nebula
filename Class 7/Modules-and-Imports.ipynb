{
 "cells": [
  {
   "cell_type": "markdown",
   "metadata": {},
   "source": [
    "# Modules and Importing in Python Assignment: Git and GitHub Edition\n",
    "\n",
    "### Objective\n",
    "\n",
    "This assignment deepens your understanding of Python modules, including the Standard Library, external libraries, and custom modules, while also introducing essential version control practices using Git and GitHub. You'll apply what you've learned about modules by completing programming tasks and then practice committing your code to a GitHub repository.\n",
    "\n",
    "Git and GitHub Instructions\n",
    "After completing each task, you'll use Git and GitHub to submit your work. Here's a step-by-step guide:\n",
    "\n",
    "Step 1: Create a New Repository\n",
    "Log into your GitHub account and create a new repository named \"PythonModulesAssignment\".\n",
    "Initialize it with a README file. This will help others understand what your project is about.\n",
    "\n",
    "Step 2: Clone the Repository\n",
    "On your computer, open a terminal or command prompt.\n",
    "Clone the repository using the command: git clone <repository-URL>. You can find the URL on your repository's page on GitHub.\n",
    "\n",
    "Step 3: Add Your Assignment\n",
    "Move your assignment files into the cloned repository's folder on your computer.\n",
    "Use the terminal or command prompt to navigate into the repository folder.\n",
    "Add your files to the repository with the command: git add .\n",
    "\n",
    "Step 4: Commit Changes\n",
    "Commit your added files with the command: git commit -m \"Completed Python modules assignment\". The message in quotes should describe what you're committing.\n",
    "\n",
    "Step 5: Push to GitHub\n",
    "Push your commits to GitHub with the command: git push origin master. If you're using a different branch, replace master with your branch name.\n",
    "\n",
    "Step 6: Submit Your Work\n",
    "On GitHub, navigate to your repository page. Your files should now be visible there.\n",
    "Submit the link to your repository as your assignment submission."
   ]
  }
 ],
 "metadata": {
  "language_info": {
   "name": "python"
  }
 },
 "nbformat": 4,
 "nbformat_minor": 2
}
