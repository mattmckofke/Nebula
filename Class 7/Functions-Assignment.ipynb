{
 "cells": [
  {
   "cell_type": "markdown",
   "metadata": {},
   "source": [
    "### **Functions in Python Assignment**\n",
    "\n",
    "## **Exercise 1: Defining and Calling Functions**\n",
    "\n",
    "Demonstrate your understanding of how to define and call functions in Python.\n",
    "\n",
    "* **Task 1.1:** Define a function named `square` that takes one parameter, `number`, and returns the square of that number. Call the function with a number of your choice and print the result.\n",
    "\n",
    "* **Task 1.2:** Create a function called `say_hello` that takes no parameters and simply prints `\"Hello, Python!\"` when called."
   ]
  },
  {
   "cell_type": "code",
   "execution_count": 6,
   "metadata": {},
   "outputs": [
    {
     "name": "stdout",
     "output_type": "stream",
     "text": [
      "9\n",
      "Hello, Python!\n"
     ]
    }
   ],
   "source": [
    "# Task 1\n",
    "\n",
    "def square(number):\n",
    "    return number ** 2\n",
    "\n",
    "print(square(3))\n",
    "\n",
    "def say_hello():\n",
    "    print(\"Hello, Python!\")\n",
    "\n",
    "say_hello()"
   ]
  },
  {
   "cell_type": "markdown",
   "metadata": {},
   "source": [
    "## **Exercise 2: Working with Parameters and Return Values**\n",
    "\n",
    "Explore function parameters, arguments, and the importance of return values.\n",
    "\n",
    "* **Task 2.1:** Write a function named `add` that takes two parameters, `a` and `b`, adds them together, and returns the result. Call the function with two numbers as arguments and print the result.\n",
    "\n",
    "* **Task 2.2:** Define a function called `is_even` that takes a single parameter, `num`, and returns `True` if the number is even, and `False` otherwise. Demonstrate its use by printing the result of a call with an even and an odd number."
   ]
  },
  {
   "cell_type": "code",
   "execution_count": 7,
   "metadata": {},
   "outputs": [
    {
     "name": "stdout",
     "output_type": "stream",
     "text": [
      "8\n",
      "False\n",
      "True\n"
     ]
    }
   ],
   "source": [
    "# Task 2\n",
    "\n",
    "def add(a, b):\n",
    "    return a + b\n",
    "\n",
    "print(add(3, 5))\n",
    "\n",
    "def is_even(num):\n",
    "    return num % 2 == 0\n",
    "\n",
    "print(is_even(5))\n",
    "print(is_even(6))"
   ]
  },
  {
   "cell_type": "markdown",
   "metadata": {},
   "source": [
    "## **Exercise 3: Default Parameters and Keyword Arguments**\n",
    "\n",
    "Understand how to use default parameters and keyword arguments in function calls.\n",
    "\n",
    "* **Task 3.1:** Define a function `greet_user` with one parameter, `name`, with a default value of `\"Guest\"`. The function should print a greeting message using the name. Call the function twice: first, without any arguments, and second, with a name of your choice.\n",
    "\n",
    "* **Task 3.2:** Create a function named `describe_animal` with two parameters: `animal_type` and `pet_name`. Print a description of the animal using these parameters. Call this function using keyword arguments to specify the name and type of your pet or a fictional animal."
   ]
  },
  {
   "cell_type": "code",
   "execution_count": 8,
   "metadata": {},
   "outputs": [
    {
     "name": "stdout",
     "output_type": "stream",
     "text": [
      "Hello, John!\n",
      "Hello, Guest!\n",
      "I have a dog.\n",
      "My dog's name is Buddy.\n"
     ]
    }
   ],
   "source": [
    "# Task 3\n",
    "\n",
    "def greet_user(name=\"Guest\"):\n",
    "    print(f\"Hello, {name}!\")\n",
    "\n",
    "greet_user(\"John\")\n",
    "greet_user()\n",
    "\n",
    "def describe_animal(animal_type, pet_name):\n",
    "    print(f\"I have a {animal_type}.\")\n",
    "    print(f\"My {animal_type}'s name is {pet_name}.\")\n",
    "\n",
    "describe_animal(\"dog\", \"Buddy\")"
   ]
  },
  {
   "cell_type": "markdown",
   "metadata": {},
   "source": [
    "## **Additional Challenges**\n",
    "\n",
    "For more advanced practice:\n",
    "\n",
    "* **Challenge 1:** Write a function `max_of_three` that takes three numbers as arguments and returns the largest of them. Ensure your function works for a set of any three numbers.\n",
    "\n",
    "* **Challenge 2:** Implement a function `concat_strings` that takes an arbitrary number of strings (using `*args`) and concatenates them into a single string separated by spaces. Test your function with multiple strings."
   ]
  },
  {
   "cell_type": "code",
   "execution_count": 9,
   "metadata": {},
   "outputs": [
    {
     "name": "stdout",
     "output_type": "stream",
     "text": [
      "5\n",
      "Hello Python World\n",
      "I love Python programming\n"
     ]
    }
   ],
   "source": [
    "# Challenge 1\n",
    "\n",
    "def max_of_three(a, b, c):\n",
    "    return max(a, b, c)\n",
    "\n",
    "print(max_of_three(3, 5, 2))\n",
    "\n",
    "# Challenge 2\n",
    "\n",
    "def concat_strings(*args):\n",
    "    return \" \".join(args)\n",
    "\n",
    "print(concat_strings(\"Hello\", \"Python\", \"World\"))\n",
    "print(concat_strings(\"I\", \"love\", \"Python\", \"programming\"))"
   ]
  }
 ],
 "metadata": {
  "kernelspec": {
   "display_name": "Python 3",
   "language": "python",
   "name": "python3"
  },
  "language_info": {
   "codemirror_mode": {
    "name": "ipython",
    "version": 3
   },
   "file_extension": ".py",
   "mimetype": "text/x-python",
   "name": "python",
   "nbconvert_exporter": "python",
   "pygments_lexer": "ipython3",
   "version": "3.12.3"
  }
 },
 "nbformat": 4,
 "nbformat_minor": 2
}
