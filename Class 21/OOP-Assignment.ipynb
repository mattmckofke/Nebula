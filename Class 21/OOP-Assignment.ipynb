{
 "cells": [
  {
   "cell_type": "markdown",
   "metadata": {},
   "source": [
    "6. 📦 Composition vs Inheritance\n",
    "Implement two classes:\n",
    "\n",
    "Box with an attribute contents (a list).\n",
    "ColoredBox that adds a color attribute.\n",
    "First, implement ColoredBox using inheritance from Box. Then, implement ColoredBox using composition by having a Box instance as an attribute."
   ]
  },
  {
   "cell_type": "code",
   "execution_count": 193,
   "metadata": {},
   "outputs": [
    {
     "name": "stdout",
     "output_type": "stream",
     "text": [
      "a ball\n",
      "red\n",
      "a ball\n",
      "red\n"
     ]
    }
   ],
   "source": [
    "class Box():\n",
    "    def __init__(self, contents):\n",
    "        self.contents = contents\n",
    "    \n",
    "class ColoredBox(Box):\n",
    "    def __init__(self, contents, color):\n",
    "        super().__init__(contents)\n",
    "        self.color = color\n",
    "        \n",
    "colBox = ColoredBox(\"a ball\", \"red\")\n",
    "print(colBox.contents)\n",
    "print(colBox.color)\n",
    "\n",
    "# implement color box using composition\n",
    "box = Box(\"a ball\")\n",
    "colBox = ColoredBox(box, \"red\")\n",
    "print(colBox.contents.contents)\n",
    "print(colBox.color)"
   ]
  },
  {
   "cell_type": "markdown",
   "metadata": {},
   "source": [
    "7. 📋 Abstract Base Class\n",
    "Use the abc module to create an abstract base class Shape with an abstract method area(). Then, create subclasses Circle and Rectangle that implement the area() method."
   ]
  },
  {
   "cell_type": "code",
   "execution_count": 194,
   "metadata": {},
   "outputs": [
    {
     "name": "stdout",
     "output_type": "stream",
     "text": [
      "314.16\n",
      "200\n"
     ]
    }
   ],
   "source": [
    "import abc, math\n",
    "\n",
    "class Shape(abc.ABC):\n",
    "    @abc.abstractmethod\n",
    "    def area(self):\n",
    "        pass\n",
    "    \n",
    "class Circle(Shape):\n",
    "    def __init__(self, radius):\n",
    "        self.radius = radius\n",
    "        \n",
    "    def area(self):\n",
    "        return round(math.pi * self.radius ** 2, 2)\n",
    "    \n",
    "class Rectangle(Shape):\n",
    "    def __init__(self, width, height):\n",
    "        self.width = width\n",
    "        self.height = height\n",
    "        \n",
    "    def area(self):\n",
    "        return self.width * self.height\n",
    "    \n",
    "circle = Circle(10)\n",
    "print(circle.area())\n",
    "rectangle = Rectangle(10, 20)\n",
    "print(rectangle.area())"
   ]
  },
  {
   "cell_type": "markdown",
   "metadata": {},
   "source": [
    "8. 🌀 Dunder Methods\n",
    "Create a class Vector that represents a vector in 2D space with x and y coordinates. Implement dunder methods for vector addition __add__, string representation __str__, and equality comparison __eq__."
   ]
  },
  {
   "cell_type": "code",
   "execution_count": 195,
   "metadata": {},
   "outputs": [
    {
     "name": "stdout",
     "output_type": "stream",
     "text": [
      "(4, 6)\n"
     ]
    }
   ],
   "source": [
    "class Vector():\n",
    "    def __init__(self, x, y):\n",
    "        self.x = x\n",
    "        self.y = y\n",
    "        \n",
    "    def __add__(self, other):\n",
    "        return Vector(self.x + other.x, self.y + other.y)\n",
    "    \n",
    "    def __str__(self):\n",
    "        return f\"({self.x}, {self.y})\"\n",
    "    \n",
    "    def __eq__(self, value: object):\n",
    "        return self.x == value.x and self.y == value.y\n",
    "    \n",
    "v1 = Vector(1, 2)\n",
    "v2 = Vector(3, 4)\n",
    "v3 = v1 + v2\n",
    "print(v3)"
   ]
  },
  {
   "cell_type": "markdown",
   "metadata": {},
   "source": [
    "9. 🚗 Car Class Hierarchy\n",
    "Create a class hierarchy for vehicles:\n",
    "\n",
    "Base class Vehicle with attributes make and model\n",
    "Subclass Car with attribute num_doors\n",
    "Subclass Truck with attribute payload_capacity\n",
    "Instantiate objects of Car and Truck, and demonstrate how they inherit from Vehicle."
   ]
  },
  {
   "cell_type": "code",
   "execution_count": 196,
   "metadata": {},
   "outputs": [
    {
     "name": "stdout",
     "output_type": "stream",
     "text": [
      "Toyota\n",
      "Corolla\n",
      "4\n",
      "Ford\n",
      "F-150\n",
      "2000\n"
     ]
    }
   ],
   "source": [
    "class Vehicle():\n",
    "    def __init__(self, make, model):\n",
    "        self.make = make\n",
    "        self.model = model\n",
    "        self.engine_status = False\n",
    "        \n",
    "    def start_engine(self):\n",
    "        self.engine_status = True\n",
    "        \n",
    "    def stop_engine(self):\n",
    "        self.engine_status = False\n",
    "        \n",
    "    def check_engine_status(self):\n",
    "        if self.engine_status:\n",
    "            print(\"The \" + self.make + \" \" + self.model + \" is running.\")\n",
    "        else:\n",
    "            print(\"The \" + self.make + \" \" + self.model + \" is not running.\")\n",
    "        \n",
    "class Car(Vehicle):\n",
    "    def __init__(self, make, model, num_doors):\n",
    "        super().__init__(make, model)\n",
    "        self.num_doors = num_doors\n",
    "        self.engine_status = False\n",
    "        \n",
    "class Truck(Vehicle):\n",
    "    def __init__(self, make, model, payload_capacity):\n",
    "        super().__init__(make, model)\n",
    "        self.payload_capacity = payload_capacity\n",
    "        self.engine_status = False\n",
    "        \n",
    "car = Car(\"Toyota\", \"Corolla\", 4)\n",
    "print(car.make)\n",
    "print(car.model)\n",
    "print(car.num_doors)\n",
    "\n",
    "truck = Truck(\"Ford\", \"F-150\", 2000)\n",
    "print(truck.make)\n",
    "print(truck.model)\n",
    "print(truck.payload_capacity)"
   ]
  },
  {
   "cell_type": "markdown",
   "metadata": {},
   "source": [
    "10. ⚡ Electric Vehicle Extension\n",
    "Extend the Car class to create an ElectricCar subclass with an attribute battery_capacity. Override the start_engine method to indicate that the car is powered on silently."
   ]
  },
  {
   "cell_type": "code",
   "execution_count": 197,
   "metadata": {},
   "outputs": [
    {
     "name": "stdout",
     "output_type": "stream",
     "text": [
      "The Nissan Leaf is running silently.\n",
      "The Nissan Leaf is no longer running.\n"
     ]
    }
   ],
   "source": [
    "class ElectricCar(Car):\n",
    "    def __init__(self, make, model, num_doors, battery_capacity):\n",
    "        super().__init__(make, model, num_doors)\n",
    "        self.battery_capacity = battery_capacity\n",
    "        \n",
    "    def start_motor(self):\n",
    "        print(\"The \" + self.make + \" \" + self.model + \" is running silently.\")\n",
    "    \n",
    "    def stop_motor(self):\n",
    "        print(\"The \" + self.make + \" \" + self.model + \" is no longer running.\")\n",
    "        \n",
    "eCar = ElectricCar(\"Nissan\", \"Leaf\", 4, 30)\n",
    "eCar.start_motor()\n",
    "eCar.stop_motor()"
   ]
  },
  {
   "cell_type": "markdown",
   "metadata": {},
   "source": [
    "Extra Challenge 💡\n",
    "Combine multiple OOP concepts:\n",
    "\n",
    "Create an Employee class with private attributes, inheritance, and polymorphism:\n",
    "\n",
    "Base class Employee with a private attribute __salary and methods to set and get the salary.\n",
    "Subclass Manager that overrides a method calculate_bonus() differently from the base class.\n",
    "Use @property decorators to manage access to private attributes.\n",
    "Then, create multiple employee objects, store them in a list, and write a function that calculates the total salary expenditure."
   ]
  },
  {
   "cell_type": "code",
   "execution_count": 198,
   "metadata": {},
   "outputs": [
    {
     "name": "stdout",
     "output_type": "stream",
     "text": [
      "50000.00\n",
      "60000.00\n",
      "6000.00\n",
      "90000.00\n",
      "100000.00\n",
      "35000.00\n"
     ]
    }
   ],
   "source": [
    "class Employee():\n",
    "    def __init__(self, first_name, last_name, salary):\n",
    "        self.first_name = first_name\n",
    "        self.last_name = last_name\n",
    "        self.__salary = salary\n",
    "        \n",
    "    def get_salary(self):\n",
    "        return f\"{self.__salary:.2f}\"\n",
    "    \n",
    "    def set_salary(self, value):\n",
    "        if  value < 0:\n",
    "            raise ValueError(\"Salary must be positive\")\n",
    "        self.__salary = value\n",
    "        \n",
    "    def calculate_bonus(self, percent):\n",
    "        return f\"{(self.__salary * percent / 100):.2f}\"\n",
    "        \n",
    "class Manager(Employee):\n",
    "    def __init__(self, first_name, last_name, salary, num_employees):\n",
    "        super().__init__(first_name, last_name, salary)\n",
    "        self.num_employees = num_employees\n",
    "        \n",
    "    def calculate_bonus(self, percent):\n",
    "        return f\"{float(super().calculate_bonus(percent)) + self.num_employees * 0.05 * float(self.get_salary()):.2f}\"\n",
    "    \n",
    "emp = Employee(\"John\", \"Doe\", 50000)\n",
    "print(emp.get_salary())\n",
    "emp.set_salary(60000)\n",
    "print(emp.get_salary())\n",
    "print(emp.calculate_bonus(10))\n",
    "\n",
    "mgr = Manager(\"Jane\", \"Smith\", 90000, 5)\n",
    "print(mgr.get_salary())\n",
    "mgr.set_salary(100000)\n",
    "print(mgr.get_salary())\n",
    "print(mgr.calculate_bonus(10))"
   ]
  }
 ],
 "metadata": {
  "kernelspec": {
   "display_name": "Python 3",
   "language": "python",
   "name": "python3"
  },
  "language_info": {
   "codemirror_mode": {
    "name": "ipython",
    "version": 3
   },
   "file_extension": ".py",
   "mimetype": "text/x-python",
   "name": "python",
   "nbconvert_exporter": "python",
   "pygments_lexer": "ipython3",
   "version": "3.12.7"
  }
 },
 "nbformat": 4,
 "nbformat_minor": 2
}
